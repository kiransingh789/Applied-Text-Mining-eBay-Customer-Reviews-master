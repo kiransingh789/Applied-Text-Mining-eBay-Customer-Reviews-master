{
 "cells": [
  {
   "cell_type": "markdown",
   "metadata": {},
   "source": [
    "# eBay Review Classification\n",
    "## Team 10\n",
    "### Leonard Littleton, Kiran Singh, Andrew Zazueta"
   ]
  },
  {
   "cell_type": "markdown",
   "metadata": {},
   "source": [
    "## Libraries"
   ]
  },
  {
   "cell_type": "code",
   "execution_count": 11,
   "metadata": {},
   "outputs": [],
   "source": [
    "import pandas as pd\n",
    "import numpy as np\n",
    "from bs4 import BeautifulSoup\n",
    "import requests\n",
    "\n",
    "from string import punctuation\n",
    "from nltk.corpus import stopwords\n",
    "import re\n",
    "import emoji\n",
    "\n",
    "import seaborn as sns\n",
    "from matplotlib import pyplot as plt\n",
    "\n",
    "from sklearn.model_selection import train_test_split\n",
    "from sklearn.decomposition import TruncatedSVD\n",
    "from sklearn.feature_extraction.text import TfidfVectorizer\n",
    "from sklearn.svm import LinearSVC\n",
    "from sklearn.metrics import accuracy_score\n",
    "from sklearn.metrics import classification_report\n",
    "from sklearn.linear_model import LogisticRegression\n",
    "from sklearn.neighbors import KNeighborsClassifier\n",
    "from sklearn import svm\n",
    "from spacy.lang.en.stop_words import STOP_WORDS as stopwords\n",
    "from sklearn.feature_extraction.text import CountVectorizer\n",
    "from sklearn.naive_bayes import GaussianNB\n",
    "from sklearn.ensemble import RandomForestClassifier\n",
    "from sklearn.decomposition import LatentDirichletAllocation\n",
    "from sklearn.decomposition import NMF"
   ]
  },
  {
   "cell_type": "markdown",
   "metadata": {},
   "source": [
    "## Reading in Data from eBay"
   ]
  },
  {
   "cell_type": "markdown",
   "metadata": {},
   "source": [
    "#### Custom Functions"
   ]
  },
  {
   "cell_type": "code",
   "execution_count": 3,
   "metadata": {},
   "outputs": [],
   "source": [
    "# Generating links by imputting review page link\n",
    "\n",
    "def link_generator(url):\n",
    "    \n",
    "    # truncating link to get base\n",
    "    \n",
    "    page = url\n",
    "    page_base = page[:-1]\n",
    "\n",
    "    # finding total review pages\n",
    "\n",
    "    r = requests.get(page)\n",
    "    soup = BeautifulSoup(r.text, 'html.parser')\n",
    "    total_pages = int(str(soup).split('\"totalPages\":')[1].split('}')[0])\n",
    "    links = []\n",
    "\n",
    "    # generating links\n",
    "    \n",
    "    for link in range(1,total_pages+1):\n",
    "        links.append(page_base+str(link))\n",
    "    \n",
    "    return links\n",
    "\n",
    "def ebay_scrape(links):\n",
    "    \n",
    "    stars = []\n",
    "    content = []\n",
    "    titles = []\n",
    "    \n",
    "    for page in links:\n",
    "    \n",
    "        r = requests.get(page)\n",
    "        soup = BeautifulSoup(r.text, 'html.parser')\n",
    "    \n",
    "        for star in soup.find_all('div', class_='ebay-review-section-l'): \n",
    "            stars.append(star.find('span','star-rating')['aria-label'])\n",
    "        \n",
    "        for review_content in soup.find_all('p', class_ = 'review-item-content rvw-wrap-spaces'): \n",
    "            content.append(review_content.text)\n",
    "    \n",
    "        for review_title in soup.find_all('h3', class_ = 'review-item-title rvw-nowrap-spaces'): \n",
    "            titles.append(review_title.text)\n",
    "            \n",
    "    return stars, content, titles"
   ]
  },
  {
   "cell_type": "markdown",
   "metadata": {},
   "source": [
    "#### Product 1: Texas Instruments TI-83 Plus Graphing Calculator"
   ]
  },
  {
   "cell_type": "code",
   "execution_count": 4,
   "metadata": {},
   "outputs": [],
   "source": [
    "# initialzing df\n",
    "\n",
    "eBay_1 = []\n",
    "eBay_1 = pd.DataFrame(eBay_1)"
   ]
  },
  {
   "cell_type": "code",
   "execution_count": 5,
   "metadata": {},
   "outputs": [],
   "source": [
    "# Getting page and page base to generate links\n",
    "\n",
    "url = 'https://www.ebay.com/urw/Texas-Instruments-TI-83-Plus-Graphing-Calculator/product-reviews/54847886?condition=all&pgn=1'\n",
    "links = link_generator(url)"
   ]
  },
  {
   "cell_type": "code",
   "execution_count": 6,
   "metadata": {},
   "outputs": [],
   "source": [
    "# using ebay_scrape to collect star rating, the content of the reviews, and the review title\n",
    "\n",
    "stars, content, titles = ebay_scrape(links) "
   ]
  },
  {
   "cell_type": "code",
   "execution_count": 7,
   "metadata": {},
   "outputs": [],
   "source": [
    "# Putting list into Data Frame\n",
    "\n",
    "eBay_1['Review Title'] = titles\n",
    "#eBay['Review Content'] = content\n",
    "eBay_1['Stars'] = stars\n",
    "eBay_1['Item'] = 'Texas Instruments TI-83 Plus Graphing Calculator'"
   ]
  },
  {
   "cell_type": "markdown",
   "metadata": {},
   "source": [
    "A user must include a title in their review, but content is not needed. This creates a different amount of content items than titles and stars. This results in us having to use titles as our source of text, as there is no way to know which reviews have content in their review or not. "
   ]
  },
  {
   "cell_type": "markdown",
   "metadata": {},
   "source": [
    "#### Product 2: Apple AirPods Pro Left Airpod OEM Left Side Airpods Pro Only"
   ]
  },
  {
   "cell_type": "code",
   "execution_count": 8,
   "metadata": {},
   "outputs": [],
   "source": [
    "# initialzing df\n",
    "\n",
    "eBay_2 = []\n",
    "eBay_2 = pd.DataFrame(eBay_2)"
   ]
  },
  {
   "cell_type": "code",
   "execution_count": 9,
   "metadata": {},
   "outputs": [],
   "source": [
    "# Getting page and page base to generate links\n",
    "\n",
    "url = 'https://www.ebay.com/urw/Apple-AirPods-Pro-Wireless-In-Ear-Headsets-White/product-reviews/10034976643?_itm=115149763582&pgn=1'\n",
    "links = link_generator(url)"
   ]
  },
  {
   "cell_type": "code",
   "execution_count": 10,
   "metadata": {},
   "outputs": [],
   "source": [
    "# using ebay_scrape to collect star rating, the content of the reviews, and the review title\n",
    "\n",
    "stars, content, titles = ebay_scrape(links) "
   ]
  },
  {
   "cell_type": "code",
   "execution_count": 11,
   "metadata": {},
   "outputs": [],
   "source": [
    "# Putting list into Data Frame\n",
    "\n",
    "eBay_2['Review Title'] = titles\n",
    "eBay_2['Stars'] = stars\n",
    "eBay_2['Item'] = 'Apple AirPods Pro Left Airpod OEM Left Side Airpods Pro Only'"
   ]
  },
  {
   "cell_type": "markdown",
   "metadata": {},
   "source": [
    "#### Product 3: Sony PS5 Console w/ Blu-Ray Disc"
   ]
  },
  {
   "cell_type": "code",
   "execution_count": 12,
   "metadata": {},
   "outputs": [],
   "source": [
    "# initialzing df\n",
    "\n",
    "eBay_3 = []\n",
    "eBay_3 = pd.DataFrame(eBay_3)"
   ]
  },
  {
   "cell_type": "code",
   "execution_count": 17,
   "metadata": {},
   "outputs": [],
   "source": [
    "# Getting page and page base to generate links\n",
    "\n",
    "url = 'https://www.ebay.com/urw/Sony-PS5-Blu-Ray-Edition-Console-White/product-reviews/19040936896?_itm=265175892133&pgn=1'\n",
    "links = link_generator(url)"
   ]
  },
  {
   "cell_type": "code",
   "execution_count": 18,
   "metadata": {},
   "outputs": [],
   "source": [
    "# using ebay_scrape to collect star rating, the content of the reviews, and the review title\n",
    "\n",
    "stars, content, titles = ebay_scrape(links) "
   ]
  },
  {
   "cell_type": "code",
   "execution_count": 19,
   "metadata": {},
   "outputs": [],
   "source": [
    "# Putting list into Data Frame\n",
    "\n",
    "eBay_3['Review Title'] = titles\n",
    "eBay_3['Stars'] = stars\n",
    "eBay_3['Item'] = 'Sony PS5 Console w/ Blu-Ray Disc'"
   ]
  },
  {
   "cell_type": "markdown",
   "metadata": {},
   "source": [
    "#### Product 4: Super Bright 90000LM LED Tactical Flashlight Zoomable With Rechargeable Battery"
   ]
  },
  {
   "cell_type": "code",
   "execution_count": 20,
   "metadata": {},
   "outputs": [],
   "source": [
    "# initialzing df\n",
    "\n",
    "eBay_4 = []\n",
    "eBay_4 = pd.DataFrame(eBay_4)"
   ]
  },
  {
   "cell_type": "code",
   "execution_count": 21,
   "metadata": {},
   "outputs": [],
   "source": [
    "# Getting page and page base to generate links\n",
    "\n",
    "url = 'https://www.ebay.com/urw/Garberiel-AF20171221-8000-Lumens-Tactical-Flashlight-With-Rechargeable-Battery/product-reviews/4041786004?_itm=393096143620&pgn=1'\n",
    "links = link_generator(url)"
   ]
  },
  {
   "cell_type": "code",
   "execution_count": 22,
   "metadata": {},
   "outputs": [],
   "source": [
    "# using ebay_scrape to collect star rating, the content of the reviews, and the review title\n",
    "\n",
    "stars, content, titles = ebay_scrape(links) "
   ]
  },
  {
   "cell_type": "code",
   "execution_count": 23,
   "metadata": {},
   "outputs": [],
   "source": [
    "# Putting list into Data Frame\n",
    "\n",
    "eBay_4['Review Title'] = titles\n",
    "eBay_4['Stars'] = stars\n",
    "eBay_4['Item'] = 'Super Bright 90000LM LED Tactical Flashlight Zoomable With Rechargeable Battery'"
   ]
  },
  {
   "cell_type": "markdown",
   "metadata": {},
   "source": [
    "#### Product 5: Canon PIXMA MG2520 All-In-One Inkjet Printer"
   ]
  },
  {
   "cell_type": "code",
   "execution_count": 24,
   "metadata": {},
   "outputs": [],
   "source": [
    "# initialzing df\n",
    "\n",
    "eBay_5 = []\n",
    "eBay_5 = pd.DataFrame(eBay_5)"
   ]
  },
  {
   "cell_type": "code",
   "execution_count": 25,
   "metadata": {},
   "outputs": [],
   "source": [
    "# Getting page and page base to generate links\n",
    "\n",
    "url = 'https://www.ebay.com/urw/Canon-PIXMA-MG2520-All-In-One-Inkjet-Printer/product-reviews/182754283?pgn=1'\n",
    "links = link_generator(url)"
   ]
  },
  {
   "cell_type": "code",
   "execution_count": 26,
   "metadata": {},
   "outputs": [],
   "source": [
    "# using ebay_scrape to collect star rating, the content of the reviews, and the review title\n",
    "\n",
    "stars, content, titles = ebay_scrape(links) "
   ]
  },
  {
   "cell_type": "code",
   "execution_count": 27,
   "metadata": {},
   "outputs": [],
   "source": [
    "# Putting list into Data Frame\n",
    "\n",
    "eBay_5['Review Title'] = titles\n",
    "eBay_5['Stars'] = stars\n",
    "eBay_5['Item'] = 'Canon PIXMA MG2520 All-In-One Inkjet Printer'"
   ]
  },
  {
   "cell_type": "markdown",
   "metadata": {},
   "source": [
    "### Creating Final Data Frame"
   ]
  },
  {
   "cell_type": "code",
   "execution_count": 28,
   "metadata": {},
   "outputs": [],
   "source": [
    "# Combining data to get one data frame\n",
    "\n",
    "eBay = pd.concat([eBay_1, eBay_2, eBay_3, eBay_4, eBay_5], ignore_index=True)\n",
    "eBay.reset_index(drop = True, inplace = True)"
   ]
  },
  {
   "cell_type": "code",
   "execution_count": 29,
   "metadata": {},
   "outputs": [],
   "source": [
    "# Binning reviews for predictive modeling \n",
    "\n",
    "is_positive = []\n",
    "\n",
    "for stars in eBay['Stars']:\n",
    "    if stars == '5 stars' or stars == '4 stars':\n",
    "        is_positive.append(1)\n",
    "    else:\n",
    "        is_positive.append(0)\n",
    "        \n",
    "eBay['Is_Positive?'] = is_positive"
   ]
  },
  {
   "cell_type": "code",
   "execution_count": 30,
   "metadata": {},
   "outputs": [
    {
     "data": {
      "text/html": [
       "<div>\n",
       "<style scoped>\n",
       "    .dataframe tbody tr th:only-of-type {\n",
       "        vertical-align: middle;\n",
       "    }\n",
       "\n",
       "    .dataframe tbody tr th {\n",
       "        vertical-align: top;\n",
       "    }\n",
       "\n",
       "    .dataframe thead th {\n",
       "        text-align: right;\n",
       "    }\n",
       "</style>\n",
       "<table border=\"1\" class=\"dataframe\">\n",
       "  <thead>\n",
       "    <tr style=\"text-align: right;\">\n",
       "      <th></th>\n",
       "      <th>Review Title</th>\n",
       "      <th>Stars</th>\n",
       "      <th>Item</th>\n",
       "      <th>Is_Positive?</th>\n",
       "    </tr>\n",
       "  </thead>\n",
       "  <tbody>\n",
       "    <tr>\n",
       "      <th>0</th>\n",
       "      <td>Nice item- as we used to say: \"Works fine, las...</td>\n",
       "      <td>5 stars</td>\n",
       "      <td>Texas Instruments TI-83 Plus Graphing Calculator</td>\n",
       "      <td>1</td>\n",
       "    </tr>\n",
       "    <tr>\n",
       "      <th>1</th>\n",
       "      <td>Cheap</td>\n",
       "      <td>3 stars</td>\n",
       "      <td>Texas Instruments TI-83 Plus Graphing Calculator</td>\n",
       "      <td>0</td>\n",
       "    </tr>\n",
       "    <tr>\n",
       "      <th>2</th>\n",
       "      <td>Texas Instruments TI-83 Plus Graphic Calculator</td>\n",
       "      <td>4 stars</td>\n",
       "      <td>Texas Instruments TI-83 Plus Graphing Calculator</td>\n",
       "      <td>1</td>\n",
       "    </tr>\n",
       "    <tr>\n",
       "      <th>3</th>\n",
       "      <td>TI-83</td>\n",
       "      <td>4 stars</td>\n",
       "      <td>Texas Instruments TI-83 Plus Graphing Calculator</td>\n",
       "      <td>1</td>\n",
       "    </tr>\n",
       "    <tr>\n",
       "      <th>4</th>\n",
       "      <td>Handy calculator, solid and functional</td>\n",
       "      <td>4 stars</td>\n",
       "      <td>Texas Instruments TI-83 Plus Graphing Calculator</td>\n",
       "      <td>1</td>\n",
       "    </tr>\n",
       "    <tr>\n",
       "      <th>...</th>\n",
       "      <td>...</td>\n",
       "      <td>...</td>\n",
       "      <td>...</td>\n",
       "      <td>...</td>\n",
       "    </tr>\n",
       "    <tr>\n",
       "      <th>7172</th>\n",
       "      <td>good</td>\n",
       "      <td>4 stars</td>\n",
       "      <td>Canon PIXMA MG2520 All-In-One Inkjet Printer</td>\n",
       "      <td>1</td>\n",
       "    </tr>\n",
       "    <tr>\n",
       "      <th>7173</th>\n",
       "      <td>ok</td>\n",
       "      <td>4 stars</td>\n",
       "      <td>Canon PIXMA MG2520 All-In-One Inkjet Printer</td>\n",
       "      <td>1</td>\n",
       "    </tr>\n",
       "    <tr>\n",
       "      <th>7174</th>\n",
       "      <td>A+</td>\n",
       "      <td>4 stars</td>\n",
       "      <td>Canon PIXMA MG2520 All-In-One Inkjet Printer</td>\n",
       "      <td>1</td>\n",
       "    </tr>\n",
       "    <tr>\n",
       "      <th>7175</th>\n",
       "      <td>Good printer but uses way to much ink</td>\n",
       "      <td>4 stars</td>\n",
       "      <td>Canon PIXMA MG2520 All-In-One Inkjet Printer</td>\n",
       "      <td>1</td>\n",
       "    </tr>\n",
       "    <tr>\n",
       "      <th>7176</th>\n",
       "      <td>not bad for the price. but no wifi no usb cabl...</td>\n",
       "      <td>3 stars</td>\n",
       "      <td>Canon PIXMA MG2520 All-In-One Inkjet Printer</td>\n",
       "      <td>0</td>\n",
       "    </tr>\n",
       "  </tbody>\n",
       "</table>\n",
       "<p>7177 rows × 4 columns</p>\n",
       "</div>"
      ],
      "text/plain": [
       "                                           Review Title    Stars  \\\n",
       "0     Nice item- as we used to say: \"Works fine, las...  5 stars   \n",
       "1                                                 Cheap  3 stars   \n",
       "2       Texas Instruments TI-83 Plus Graphic Calculator  4 stars   \n",
       "3                                                 TI-83  4 stars   \n",
       "4                Handy calculator, solid and functional  4 stars   \n",
       "...                                                 ...      ...   \n",
       "7172                                               good  4 stars   \n",
       "7173                                                 ok  4 stars   \n",
       "7174                                                 A+  4 stars   \n",
       "7175              Good printer but uses way to much ink  4 stars   \n",
       "7176  not bad for the price. but no wifi no usb cabl...  3 stars   \n",
       "\n",
       "                                                  Item  Is_Positive?  \n",
       "0     Texas Instruments TI-83 Plus Graphing Calculator             1  \n",
       "1     Texas Instruments TI-83 Plus Graphing Calculator             0  \n",
       "2     Texas Instruments TI-83 Plus Graphing Calculator             1  \n",
       "3     Texas Instruments TI-83 Plus Graphing Calculator             1  \n",
       "4     Texas Instruments TI-83 Plus Graphing Calculator             1  \n",
       "...                                                ...           ...  \n",
       "7172      Canon PIXMA MG2520 All-In-One Inkjet Printer             1  \n",
       "7173      Canon PIXMA MG2520 All-In-One Inkjet Printer             1  \n",
       "7174      Canon PIXMA MG2520 All-In-One Inkjet Printer             1  \n",
       "7175      Canon PIXMA MG2520 All-In-One Inkjet Printer             1  \n",
       "7176      Canon PIXMA MG2520 All-In-One Inkjet Printer             0  \n",
       "\n",
       "[7177 rows x 4 columns]"
      ]
     },
     "execution_count": 30,
     "metadata": {},
     "output_type": "execute_result"
    }
   ],
   "source": [
    "# What the final dataframe looks like\n",
    "\n",
    "eBay"
   ]
  },
  {
   "cell_type": "code",
   "execution_count": 27,
   "metadata": {},
   "outputs": [],
   "source": [
    "# Reading DataFrame into CSV\n",
    "\n",
    "eBay.to_csv('eBay.csv', index=False)"
   ]
  },
  {
   "cell_type": "code",
   "execution_count": 3,
   "metadata": {},
   "outputs": [],
   "source": [
    "# Reading in DataFrame\n",
    "\n",
    "eBay = pd.read_csv('eBay.csv')"
   ]
  },
  {
   "cell_type": "markdown",
   "metadata": {},
   "source": [
    "### Cleaning Data"
   ]
  },
  {
   "cell_type": "code",
   "execution_count": 4,
   "metadata": {},
   "outputs": [],
   "source": [
    "# Some punctuation variations\n",
    "punctuation = set(punctuation) # speeds up comparison\n",
    "tw_punct = punctuation - {\"#\"}\n",
    "\n",
    "# Stopwords\n",
    "sw = stopwords.words(\"english\")\n",
    "\n",
    "# Two useful regex\n",
    "whitespace_pattern = re.compile(r\"\\s+\")\n",
    "hashtag_pattern = re.compile(r\"^#[0-9a-zA-Z]+\")\n",
    "\n",
    "# full set of emojis\n",
    "all_language_emojis = set()\n",
    "\n",
    "for country in emoji.UNICODE_EMOJI : \n",
    "    for em in emoji.UNICODE_EMOJI[country] : \n",
    "        all_language_emojis.add(em)"
   ]
  },
  {
   "cell_type": "code",
   "execution_count": 5,
   "metadata": {},
   "outputs": [],
   "source": [
    "#function to calculate descriptive stats\n",
    "\n",
    "def descriptive_stats(tokens, num_tokens = 5, verbose=True) :\n",
    "    \"\"\"\n",
    "        Given a list of tokens, print number of tokens, number of unique tokens, \n",
    "        number of characters, lexical diversity (https://en.wikipedia.org/wiki/Lexical_diversity), \n",
    "        and num_tokens most common tokens. Return a list with the number of tokens, number\n",
    "        of unique tokens, lexical diversity, and number of characters. \n",
    "    \n",
    "    \"\"\"\n",
    "\n",
    "    # Fill in the correct values here.\n",
    "    tokes = tokens.split()\n",
    "    num_tokens = sum(map(len, (s.split() for s in tokes)))\n",
    "    num_unique_tokens = len(set(w.lower() for w in tokes))\n",
    "    lexical_diversity = num_unique_tokens / num_tokens\n",
    "    num_characters = sum(list(map(len, tokes)))\n",
    "    \n",
    "    if verbose :        \n",
    "        print(f\"There are {num_tokens} tokens in the data.\")\n",
    "        print(f\"There are {num_unique_tokens} unique tokens in the data.\")\n",
    "        print(f\"There are {num_characters} characters in the data.\")\n",
    "        print(f\"The lexical diversity is {lexical_diversity:.3f} in the data.\")\n",
    "    \n",
    "        # print the five most common tokens\n",
    "        \n",
    "    return([num_tokens, num_unique_tokens,\n",
    "            lexical_diversity,\n",
    "            num_characters])"
   ]
  },
  {
   "cell_type": "code",
   "execution_count": 6,
   "metadata": {},
   "outputs": [],
   "source": [
    "#other useful functions from previous modules\n",
    "def is_emoji(s):\n",
    "    return(s in all_language_emojis)\n",
    "\n",
    "def contains_emoji(s):\n",
    "    \n",
    "    s = str(s)\n",
    "    emojis = [ch for ch in s if is_emoji(ch)]\n",
    "\n",
    "    return(len(emojis) > 0)\n",
    "\n",
    "\n",
    "def remove_stop(tokens) :\n",
    "    # modify this function to remove stopwords\n",
    "    tokens_wo_sw = []\n",
    "    for w in tokens:\n",
    "        if w.lower() not in sw:\n",
    "            tokens_wo_sw.append(w)\n",
    "    return(tokens_wo_sw)\n",
    " \n",
    "def remove_punctuation(text, punct_set=tw_punct): \n",
    "    for ele in text:\n",
    "        if ele in punct_set:\n",
    "            text = text.replace(ele, \"\")\n",
    "    return(text)\n",
    "\n",
    "def tokenize(text) : \n",
    "    \"\"\" Splitting on whitespace rather than the book's tokenize function. That \n",
    "        function will drop tokens like '#hashtag' or '2A', which we need for Twitter. \"\"\"\n",
    "    \n",
    "    # modify this function to return tokens\n",
    "    text = text.split()\n",
    "    return(text)\n",
    "\n",
    "def prepare(text, pipeline) : \n",
    "    tokens = str(text)\n",
    "    \n",
    "    for transform in pipeline : \n",
    "        tokens = transform(tokens)\n",
    "        \n",
    "    return(tokens)"
   ]
  },
  {
   "cell_type": "code",
   "execution_count": 7,
   "metadata": {},
   "outputs": [],
   "source": [
    "my_pipeline = [str.lower, remove_punctuation, tokenize, remove_stop]"
   ]
  },
  {
   "cell_type": "code",
   "execution_count": 8,
   "metadata": {},
   "outputs": [],
   "source": [
    "clean_eBay = []\n",
    "\n",
    "for review in range(len(eBay)):\n",
    "    temp = prepare(eBay['Review Title'][review], my_pipeline)\n",
    "    clean_eBay.append(temp)"
   ]
  },
  {
   "cell_type": "markdown",
   "metadata": {},
   "source": [
    "### Descriptive Statistics"
   ]
  },
  {
   "cell_type": "code",
   "execution_count": 9,
   "metadata": {},
   "outputs": [
    {
     "name": "stdout",
     "output_type": "stream",
     "text": [
      "There are 16880 tokens in the data.\n",
      "There are 3481 unique tokens in the data.\n",
      "There are 160626 characters in the data.\n",
      "The lexical diversity is 0.206 in the data.\n"
     ]
    },
    {
     "data": {
      "text/plain": [
       "[16880, 3481, 0.20622037914691943, 160626]"
      ]
     },
     "execution_count": 9,
     "metadata": {},
     "output_type": "execute_result"
    }
   ],
   "source": [
    "descriptive_stats(str(clean_eBay), verbose=True)"
   ]
  },
  {
   "cell_type": "code",
   "execution_count": 10,
   "metadata": {},
   "outputs": [],
   "source": [
    "# Adding cleaned text to data frame and removing rows without clean data\n",
    "\n",
    "eBay['Clean Title'] = clean_eBay\n",
    "eBay = eBay[eBay['Clean Title'].str.len() != 0]"
   ]
  },
  {
   "cell_type": "code",
   "execution_count": 39,
   "metadata": {},
   "outputs": [
    {
     "data": {
      "image/png": "[encoded data removed]",
      "text/plain": [
       "<Figure size 360x216 with 1 Axes>"
      ]
     },
     "metadata": {
      "needs_background": "light"
     },
     "output_type": "display_data"
    }
   ],
   "source": [
    "# Seeing Star rating distribution and Is_Positive? distribution \n",
    "\n",
    "plt.figure(figsize=(5, 3))\n",
    "sns.countplot(data=eBay, x='Stars', order = eBay['Stars'].value_counts().index)\n",
    "plt.show()"
   ]
  },
  {
   "cell_type": "code",
   "execution_count": 40,
   "metadata": {},
   "outputs": [
    {
     "data": {
      "image/png": "[encoded data removed]",
      "text/plain": [
       "<Figure size 360x216 with 1 Axes>"
      ]
     },
     "metadata": {
      "needs_background": "light"
     },
     "output_type": "display_data"
    }
   ],
   "source": [
    "plt.figure(figsize=(5, 3))\n",
    "sns.countplot(data=eBay, x='Is_Positive?', order = eBay['Is_Positive?'].value_counts().index)\n",
    "plt.show()"
   ]
  },
  {
   "cell_type": "markdown",
   "metadata": {},
   "source": [
    "Our data is imbalanced, so we will need to balance our training set prior to modeling."
   ]
  },
  {
   "cell_type": "markdown",
   "metadata": {},
   "source": [
    "### Building Models"
   ]
  },
  {
   "cell_type": "markdown",
   "metadata": {},
   "source": [
    "#### Creating sets for model buidling"
   ]
  },
  {
   "cell_type": "code",
   "execution_count": 41,
   "metadata": {},
   "outputs": [],
   "source": [
    "# Splitting Data into testing, validation, and training sets\n",
    "\n",
    "X = eBay['Clean Title']\n",
    "y = eBay['Is_Positive?']\n",
    "train_X, rem_X, train_y, rem_y = train_test_split(X, y, train_size=0.7, random_state=42, stratify = y)\n",
    "valid_X, test_X, valid_y, test_y = train_test_split(rem_X, rem_y, train_size=0.5, random_state=42, stratify = rem_y)"
   ]
  },
  {
   "cell_type": "code",
   "execution_count": 42,
   "metadata": {},
   "outputs": [
    {
     "data": {
      "text/plain": [
       "1    4344\n",
       "0     654\n",
       "Name: Is_Positive?, dtype: int64"
      ]
     },
     "execution_count": 42,
     "metadata": {},
     "output_type": "execute_result"
    }
   ],
   "source": [
    "# Looking at the distribution, we will need to undersample the majority (1s)\n",
    "\n",
    "train_y.value_counts()"
   ]
  },
  {
   "cell_type": "code",
   "execution_count": 43,
   "metadata": {},
   "outputs": [],
   "source": [
    "# randomly picking samples from positive reviews\n",
    "\n",
    "eBay_test = pd.concat([train_X, train_y], axis = 1)\n",
    "\n",
    "positive_indices = eBay_test[eBay_test['Is_Positive?'] == 1].index\n",
    "random_indices = np.random.choice(positive_indices, 637, replace=False)\n",
    "positive_sample = eBay_test.loc[random_indices]"
   ]
  },
  {
   "cell_type": "code",
   "execution_count": 44,
   "metadata": {},
   "outputs": [
    {
     "data": {
      "text/plain": [
       "0    654\n",
       "1    637\n",
       "Name: Is_Positive?, dtype: int64"
      ]
     },
     "execution_count": 44,
     "metadata": {},
     "output_type": "execute_result"
    }
   ],
   "source": [
    "# Joining the data to get our new training set\n",
    "\n",
    "new_train = pd.concat([positive_sample, eBay_test[eBay_test['Is_Positive?'] == 0]], axis = 0)\n",
    "new_train['Is_Positive?'].value_counts()"
   ]
  },
  {
   "cell_type": "markdown",
   "metadata": {},
   "source": [
    "#### Altering data so it can work with our Classification models"
   ]
  },
  {
   "cell_type": "code",
   "execution_count": 45,
   "metadata": {},
   "outputs": [],
   "source": [
    "# splitting into X and y\n",
    "\n",
    "new_train_X = new_train['Clean Title']\n",
    "new_train_y = new_train['Is_Positive?']"
   ]
  },
  {
   "cell_type": "code",
   "execution_count": 46,
   "metadata": {},
   "outputs": [],
   "source": [
    "# formating data so it is no longer in list form\n",
    "\n",
    "new_x = []\n",
    "\n",
    "for i in new_train_X.index:\n",
    "    new_x.append(' '.join(new_train_X[i]))\n",
    "\n",
    "new_train_y.reset_index(drop=True,inplace=True)"
   ]
  },
  {
   "cell_type": "code",
   "execution_count": 47,
   "metadata": {},
   "outputs": [],
   "source": [
    "x_df = []\n",
    "x_df = pd.DataFrame(x_df)\n",
    "x_df['Clean Title'] = pd.DataFrame(new_x)"
   ]
  },
  {
   "cell_type": "code",
   "execution_count": 48,
   "metadata": {},
   "outputs": [
    {
     "data": {
      "text/plain": [
       "0                        perfect\n",
       "1                    ps5 amazing\n",
       "2            fast great graphics\n",
       "3       perfect like description\n",
       "4                          happy\n",
       "                  ...           \n",
       "1286            original product\n",
       "1287      calculator doesnt work\n",
       "1288                      unfair\n",
       "1289                       fakes\n",
       "1290                 严重怀疑是华强北仿冒品\n",
       "Name: Clean Title, Length: 1291, dtype: object"
      ]
     },
     "execution_count": 48,
     "metadata": {},
     "output_type": "execute_result"
    }
   ],
   "source": [
    "# new x training set\n",
    "\n",
    "new_train_X = x_df\n",
    "new_train_X = new_train_X['Clean Title']\n",
    "new_train_X"
   ]
  },
  {
   "cell_type": "code",
   "execution_count": 49,
   "metadata": {},
   "outputs": [
    {
     "data": {
      "text/plain": [
       "0       1\n",
       "1       1\n",
       "2       1\n",
       "3       1\n",
       "4       1\n",
       "       ..\n",
       "1286    0\n",
       "1287    0\n",
       "1288    0\n",
       "1289    0\n",
       "1290    0\n",
       "Name: Is_Positive?, Length: 1291, dtype: int64"
      ]
     },
     "execution_count": 49,
     "metadata": {},
     "output_type": "execute_result"
    }
   ],
   "source": [
    "# making sure we still have all our data\n",
    "\n",
    "new_train_y"
   ]
  },
  {
   "cell_type": "code",
   "execution_count": 50,
   "metadata": {},
   "outputs": [
    {
     "data": {
      "text/plain": [
       "0            great purchase\n",
       "1                     great\n",
       "2       shouldn’t purchased\n",
       "3               airpods pro\n",
       "4                      good\n",
       "               ...         \n",
       "1066                    ps5\n",
       "1067                awesome\n",
       "1068     great items around\n",
       "1069       canon pixma 2520\n",
       "1070                    ps5\n",
       "Name: Clean Title, Length: 1071, dtype: object"
      ]
     },
     "execution_count": 50,
     "metadata": {},
     "output_type": "execute_result"
    }
   ],
   "source": [
    "# performing the same steps for our Validation Set\n",
    "\n",
    "new_x = []\n",
    "new_valid_y = valid_y\n",
    "\n",
    "for i in valid_X.index:\n",
    "    new_x.append(' '.join(valid_X[i]))\n",
    "\n",
    "new_valid_y.reset_index(drop=True,inplace=True)\n",
    "\n",
    "x_df = []\n",
    "x_df = pd.DataFrame(x_df)\n",
    "x_df['Clean Title'] = pd.DataFrame(new_x)\n",
    "new_valid_X = x_df\n",
    "new_valid_X = new_valid_X['Clean Title']\n",
    "new_valid_X"
   ]
  },
  {
   "cell_type": "code",
   "execution_count": 51,
   "metadata": {},
   "outputs": [
    {
     "data": {
      "text/plain": [
       "0       1\n",
       "1       1\n",
       "2       0\n",
       "3       1\n",
       "4       0\n",
       "       ..\n",
       "1066    1\n",
       "1067    1\n",
       "1068    1\n",
       "1069    1\n",
       "1070    1\n",
       "Name: Is_Positive?, Length: 1071, dtype: int64"
      ]
     },
     "execution_count": 51,
     "metadata": {},
     "output_type": "execute_result"
    }
   ],
   "source": [
    "# making sure we have the same amount of data\n",
    "\n",
    "new_valid_y"
   ]
  },
  {
   "cell_type": "markdown",
   "metadata": {},
   "source": [
    "#### Bulding LinearSVC Model"
   ]
  },
  {
   "cell_type": "code",
   "execution_count": 52,
   "metadata": {},
   "outputs": [
    {
     "name": "stdout",
     "output_type": "stream",
     "text": [
      "Accuracy Score -  0.6526610644257703\n",
      "              precision    recall  f1-score   support\n",
      "\n",
      "           0       0.25      0.86      0.39       140\n",
      "           1       0.97      0.62      0.76       931\n",
      "\n",
      "    accuracy                           0.65      1071\n",
      "   macro avg       0.61      0.74      0.57      1071\n",
      "weighted avg       0.87      0.65      0.71      1071\n",
      "\n"
     ]
    }
   ],
   "source": [
    "# HyperTuning Parameters with Validation Set\n",
    "\n",
    "tfidf = TfidfVectorizer(min_df=10, ngram_range=(1, 2), stop_words=\"english\")\n",
    "X_train_tf = tfidf.fit_transform(new_train_X)\n",
    "\n",
    "model1 = LinearSVC(random_state=0, tol=1e-5)\n",
    "model1.fit(X_train_tf, new_train_y)\n",
    "\n",
    "\n",
    "X_valid_tf = tfidf.transform(new_valid_X)\n",
    "Y_pred = model1.predict(X_valid_tf)\n",
    "print('Accuracy Score - ', accuracy_score(valid_y, Y_pred))\n",
    "print(classification_report(valid_y, Y_pred))"
   ]
  },
  {
   "cell_type": "code",
   "execution_count": 53,
   "metadata": {},
   "outputs": [],
   "source": [
    "# performing the same steps for our test set\n",
    "\n",
    "new_x = []\n",
    "new_test_y = test_y\n",
    "\n",
    "for i in test_X.index:\n",
    "    new_x.append(' '.join(test_X[i]))\n",
    "\n",
    "new_test_y.reset_index(drop=True,inplace=True)\n",
    "\n",
    "x_df = []\n",
    "x_df = pd.DataFrame(x_df)\n",
    "x_df['Clean Title'] = pd.DataFrame(new_x)\n",
    "new_test_X = x_df\n",
    "new_test_X = new_test_X['Clean Title']"
   ]
  },
  {
   "cell_type": "code",
   "execution_count": 54,
   "metadata": {},
   "outputs": [
    {
     "name": "stdout",
     "output_type": "stream",
     "text": [
      "Accuracy Score -  0.6548507462686567\n",
      "              precision    recall  f1-score   support\n",
      "\n",
      "           0       0.25      0.84      0.39       141\n",
      "           1       0.96      0.63      0.76       931\n",
      "\n",
      "    accuracy                           0.65      1072\n",
      "   macro avg       0.61      0.74      0.58      1072\n",
      "weighted avg       0.87      0.65      0.71      1072\n",
      "\n"
     ]
    }
   ],
   "source": [
    "# Using test set\n",
    "\n",
    "X_test_tf = tfidf.transform(new_test_X)\n",
    "Y_pred = model1.predict(X_test_tf)\n",
    "print('Accuracy Score - ', accuracy_score(test_y, Y_pred))\n",
    "print(classification_report(test_y, Y_pred))"
   ]
  },
  {
   "cell_type": "markdown",
   "metadata": {},
   "source": [
    "#### Logistic Regression"
   ]
  },
  {
   "cell_type": "code",
   "execution_count": 55,
   "metadata": {},
   "outputs": [
    {
     "data": {
      "text/html": [
       "<style>#sk-container-id-1 {color: black;background-color: white;}#sk-container-id-1 pre{padding: 0;}#sk-container-id-1 div.sk-toggleable {background-color: white;}#sk-container-id-1 label.sk-toggleable__label {cursor: pointer;display: block;width: 100%;margin-bottom: 0;padding: 0.3em;box-sizing: border-box;text-align: center;}#sk-container-id-1 label.sk-toggleable__label-arrow:before {content: \"▸\";float: left;margin-right: 0.25em;color: #696969;}#sk-container-id-1 label.sk-toggleable__label-arrow:hover:before {color: black;}#sk-container-id-1 div.sk-estimator:hover label.sk-toggleable__label-arrow:before {color: black;}#sk-container-id-1 div.sk-toggleable__content {max-height: 0;max-width: 0;overflow: hidden;text-align: left;background-color: #f0f8ff;}#sk-container-id-1 div.sk-toggleable__content pre {margin: 0.2em;color: black;border-radius: 0.25em;background-color: #f0f8ff;}#sk-container-id-1 input.sk-toggleable__control:checked~div.sk-toggleable__content {max-height: 200px;max-width: 100%;overflow: auto;}#sk-container-id-1 input.sk-toggleable__control:checked~label.sk-toggleable__label-arrow:before {content: \"▾\";}#sk-container-id-1 div.sk-estimator input.sk-toggleable__control:checked~label.sk-toggleable__label {background-color: #d4ebff;}#sk-container-id-1 div.sk-label input.sk-toggleable__control:checked~label.sk-toggleable__label {background-color: #d4ebff;}#sk-container-id-1 input.sk-hidden--visually {border: 0;clip: rect(1px 1px 1px 1px);clip: rect(1px, 1px, 1px, 1px);height: 1px;margin: -1px;overflow: hidden;padding: 0;position: absolute;width: 1px;}#sk-container-id-1 div.sk-estimator {font-family: monospace;background-color: #f0f8ff;border: 1px dotted black;border-radius: 0.25em;box-sizing: border-box;margin-bottom: 0.5em;}#sk-container-id-1 div.sk-estimator:hover {background-color: #d4ebff;}#sk-container-id-1 div.sk-parallel-item::after {content: \"\";width: 100%;border-bottom: 1px solid gray;flex-grow: 1;}#sk-container-id-1 div.sk-label:hover label.sk-toggleable__label {background-color: #d4ebff;}#sk-container-id-1 div.sk-serial::before {content: \"\";position: absolute;border-left: 1px solid gray;box-sizing: border-box;top: 0;bottom: 0;left: 50%;z-index: 0;}#sk-container-id-1 div.sk-serial {display: flex;flex-direction: column;align-items: center;background-color: white;padding-right: 0.2em;padding-left: 0.2em;position: relative;}#sk-container-id-1 div.sk-item {position: relative;z-index: 1;}#sk-container-id-1 div.sk-parallel {display: flex;align-items: stretch;justify-content: center;background-color: white;position: relative;}#sk-container-id-1 div.sk-item::before, #sk-container-id-1 div.sk-parallel-item::before {content: \"\";position: absolute;border-left: 1px solid gray;box-sizing: border-box;top: 0;bottom: 0;left: 50%;z-index: -1;}#sk-container-id-1 div.sk-parallel-item {display: flex;flex-direction: column;z-index: 1;position: relative;background-color: white;}#sk-container-id-1 div.sk-parallel-item:first-child::after {align-self: flex-end;width: 50%;}#sk-container-id-1 div.sk-parallel-item:last-child::after {align-self: flex-start;width: 50%;}#sk-container-id-1 div.sk-parallel-item:only-child::after {width: 0;}#sk-container-id-1 div.sk-dashed-wrapped {border: 1px dashed gray;margin: 0 0.4em 0.5em 0.4em;box-sizing: border-box;padding-bottom: 0.4em;background-color: white;}#sk-container-id-1 div.sk-label label {font-family: monospace;font-weight: bold;display: inline-block;line-height: 1.2em;}#sk-container-id-1 div.sk-label-container {text-align: center;}#sk-container-id-1 div.sk-container {/* jupyter's `normalize.less` sets `[hidden] { display: none; }` but bootstrap.min.css set `[hidden] { display: none !important; }` so we also need the `!important` here to be able to override the default hidden behavior on the sphinx rendered scikit-learn.org. See: https://github.com/scikit-learn/scikit-learn/issues/21755 */display: inline-block !important;position: relative;}#sk-container-id-1 div.sk-text-repr-fallback {display: none;}</style><div id=\"sk-container-id-1\" class=\"sk-top-container\"><div class=\"sk-text-repr-fallback\"><pre>LogisticRegression()</pre><b>In a Jupyter environment, please rerun this cell to show the HTML representation or trust the notebook. <br />On GitHub, the HTML representation is unable to render, please try loading this page with nbviewer.org.</b></div><div class=\"sk-container\" hidden><div class=\"sk-item\"><div class=\"sk-estimator sk-toggleable\"><input class=\"sk-toggleable__control sk-hidden--visually\" id=\"sk-estimator-id-1\" type=\"checkbox\" checked><label for=\"sk-estimator-id-1\" class=\"sk-toggleable__label sk-toggleable__label-arrow\">LogisticRegression</label><div class=\"sk-toggleable__content\"><pre>LogisticRegression()</pre></div></div></div></div></div>"
      ],
      "text/plain": [
       "LogisticRegression()"
      ]
     },
     "execution_count": 55,
     "metadata": {},
     "output_type": "execute_result"
    }
   ],
   "source": [
    "lr = LogisticRegression()\n",
    "lr.fit(X_train_tf, new_train_y)"
   ]
  },
  {
   "cell_type": "code",
   "execution_count": 56,
   "metadata": {},
   "outputs": [
    {
     "name": "stdout",
     "output_type": "stream",
     "text": [
      "Accuracy Score -  0.6507936507936508\n",
      "              precision    recall  f1-score   support\n",
      "\n",
      "           0       0.26      0.89      0.40       140\n",
      "           1       0.97      0.62      0.75       931\n",
      "\n",
      "    accuracy                           0.65      1071\n",
      "   macro avg       0.62      0.75      0.58      1071\n",
      "weighted avg       0.88      0.65      0.71      1071\n",
      "\n"
     ]
    }
   ],
   "source": [
    "Y_pred = lr.predict(X_valid_tf)\n",
    "print('Accuracy Score - ', accuracy_score(valid_y, Y_pred))\n",
    "print(classification_report(valid_y, Y_pred))"
   ]
  },
  {
   "cell_type": "code",
   "execution_count": 57,
   "metadata": {},
   "outputs": [
    {
     "name": "stdout",
     "output_type": "stream",
     "text": [
      "Accuracy Score -  0.6455223880597015\n",
      "              precision    recall  f1-score   support\n",
      "\n",
      "           0       0.25      0.86      0.39       141\n",
      "           1       0.97      0.61      0.75       931\n",
      "\n",
      "    accuracy                           0.65      1072\n",
      "   macro avg       0.61      0.74      0.57      1072\n",
      "weighted avg       0.87      0.65      0.70      1072\n",
      "\n"
     ]
    }
   ],
   "source": [
    "# Using test set\n",
    "Y_pred = lr.predict(X_test_tf)\n",
    "print('Accuracy Score - ', accuracy_score(test_y, Y_pred))\n",
    "print(classification_report(test_y, Y_pred))"
   ]
  },
  {
   "cell_type": "markdown",
   "metadata": {},
   "source": [
    "#### Naïve Bayes"
   ]
  },
  {
   "cell_type": "code",
   "execution_count": 58,
   "metadata": {},
   "outputs": [
    {
     "name": "stderr",
     "output_type": "stream",
     "text": [
      "C:\\Users\\lenny\\anaconda3\\envs\\my-env-for-ads509\\lib\\site-packages\\sklearn\\utils\\validation.py:727: FutureWarning: np.matrix usage is deprecated in 1.0 and will raise a TypeError in 1.2. Please convert to a numpy array with np.asarray. For more information see: https://numpy.org/doc/stable/reference/generated/numpy.matrix.html\n",
      "  warnings.warn(\n"
     ]
    },
    {
     "data": {
      "text/html": [
       "<style>#sk-container-id-2 {color: black;background-color: white;}#sk-container-id-2 pre{padding: 0;}#sk-container-id-2 div.sk-toggleable {background-color: white;}#sk-container-id-2 label.sk-toggleable__label {cursor: pointer;display: block;width: 100%;margin-bottom: 0;padding: 0.3em;box-sizing: border-box;text-align: center;}#sk-container-id-2 label.sk-toggleable__label-arrow:before {content: \"▸\";float: left;margin-right: 0.25em;color: #696969;}#sk-container-id-2 label.sk-toggleable__label-arrow:hover:before {color: black;}#sk-container-id-2 div.sk-estimator:hover label.sk-toggleable__label-arrow:before {color: black;}#sk-container-id-2 div.sk-toggleable__content {max-height: 0;max-width: 0;overflow: hidden;text-align: left;background-color: #f0f8ff;}#sk-container-id-2 div.sk-toggleable__content pre {margin: 0.2em;color: black;border-radius: 0.25em;background-color: #f0f8ff;}#sk-container-id-2 input.sk-toggleable__control:checked~div.sk-toggleable__content {max-height: 200px;max-width: 100%;overflow: auto;}#sk-container-id-2 input.sk-toggleable__control:checked~label.sk-toggleable__label-arrow:before {content: \"▾\";}#sk-container-id-2 div.sk-estimator input.sk-toggleable__control:checked~label.sk-toggleable__label {background-color: #d4ebff;}#sk-container-id-2 div.sk-label input.sk-toggleable__control:checked~label.sk-toggleable__label {background-color: #d4ebff;}#sk-container-id-2 input.sk-hidden--visually {border: 0;clip: rect(1px 1px 1px 1px);clip: rect(1px, 1px, 1px, 1px);height: 1px;margin: -1px;overflow: hidden;padding: 0;position: absolute;width: 1px;}#sk-container-id-2 div.sk-estimator {font-family: monospace;background-color: #f0f8ff;border: 1px dotted black;border-radius: 0.25em;box-sizing: border-box;margin-bottom: 0.5em;}#sk-container-id-2 div.sk-estimator:hover {background-color: #d4ebff;}#sk-container-id-2 div.sk-parallel-item::after {content: \"\";width: 100%;border-bottom: 1px solid gray;flex-grow: 1;}#sk-container-id-2 div.sk-label:hover label.sk-toggleable__label {background-color: #d4ebff;}#sk-container-id-2 div.sk-serial::before {content: \"\";position: absolute;border-left: 1px solid gray;box-sizing: border-box;top: 0;bottom: 0;left: 50%;z-index: 0;}#sk-container-id-2 div.sk-serial {display: flex;flex-direction: column;align-items: center;background-color: white;padding-right: 0.2em;padding-left: 0.2em;position: relative;}#sk-container-id-2 div.sk-item {position: relative;z-index: 1;}#sk-container-id-2 div.sk-parallel {display: flex;align-items: stretch;justify-content: center;background-color: white;position: relative;}#sk-container-id-2 div.sk-item::before, #sk-container-id-2 div.sk-parallel-item::before {content: \"\";position: absolute;border-left: 1px solid gray;box-sizing: border-box;top: 0;bottom: 0;left: 50%;z-index: -1;}#sk-container-id-2 div.sk-parallel-item {display: flex;flex-direction: column;z-index: 1;position: relative;background-color: white;}#sk-container-id-2 div.sk-parallel-item:first-child::after {align-self: flex-end;width: 50%;}#sk-container-id-2 div.sk-parallel-item:last-child::after {align-self: flex-start;width: 50%;}#sk-container-id-2 div.sk-parallel-item:only-child::after {width: 0;}#sk-container-id-2 div.sk-dashed-wrapped {border: 1px dashed gray;margin: 0 0.4em 0.5em 0.4em;box-sizing: border-box;padding-bottom: 0.4em;background-color: white;}#sk-container-id-2 div.sk-label label {font-family: monospace;font-weight: bold;display: inline-block;line-height: 1.2em;}#sk-container-id-2 div.sk-label-container {text-align: center;}#sk-container-id-2 div.sk-container {/* jupyter's `normalize.less` sets `[hidden] { display: none; }` but bootstrap.min.css set `[hidden] { display: none !important; }` so we also need the `!important` here to be able to override the default hidden behavior on the sphinx rendered scikit-learn.org. See: https://github.com/scikit-learn/scikit-learn/issues/21755 */display: inline-block !important;position: relative;}#sk-container-id-2 div.sk-text-repr-fallback {display: none;}</style><div id=\"sk-container-id-2\" class=\"sk-top-container\"><div class=\"sk-text-repr-fallback\"><pre>GaussianNB()</pre><b>In a Jupyter environment, please rerun this cell to show the HTML representation or trust the notebook. <br />On GitHub, the HTML representation is unable to render, please try loading this page with nbviewer.org.</b></div><div class=\"sk-container\" hidden><div class=\"sk-item\"><div class=\"sk-estimator sk-toggleable\"><input class=\"sk-toggleable__control sk-hidden--visually\" id=\"sk-estimator-id-2\" type=\"checkbox\" checked><label for=\"sk-estimator-id-2\" class=\"sk-toggleable__label sk-toggleable__label-arrow\">GaussianNB</label><div class=\"sk-toggleable__content\"><pre>GaussianNB()</pre></div></div></div></div></div>"
      ],
      "text/plain": [
       "GaussianNB()"
      ]
     },
     "execution_count": 58,
     "metadata": {},
     "output_type": "execute_result"
    }
   ],
   "source": [
    "# Vectorize text reviews to numbers\n",
    "\n",
    "nb = GaussianNB()\n",
    "\n",
    "nb.fit(X_train_tf.todense(), new_train_y)"
   ]
  },
  {
   "cell_type": "code",
   "execution_count": 86,
   "metadata": {},
   "outputs": [
    {
     "name": "stdout",
     "output_type": "stream",
     "text": [
      "Accuracy Score -  0.8524743230625583\n",
      "              precision    recall  f1-score   support\n",
      "\n",
      "           0       0.42      0.32      0.36       140\n",
      "           1       0.90      0.93      0.92       931\n",
      "\n",
      "    accuracy                           0.85      1071\n",
      "   macro avg       0.66      0.63      0.64      1071\n",
      "weighted avg       0.84      0.85      0.84      1071\n",
      "\n"
     ]
    },
    {
     "name": "stderr",
     "output_type": "stream",
     "text": [
      "C:\\Users\\lenny\\anaconda3\\envs\\my-env-for-ads509\\lib\\site-packages\\sklearn\\utils\\validation.py:727: FutureWarning: np.matrix usage is deprecated in 1.0 and will raise a TypeError in 1.2. Please convert to a numpy array with np.asarray. For more information see: https://numpy.org/doc/stable/reference/generated/numpy.matrix.html\n",
      "  warnings.warn(\n"
     ]
    }
   ],
   "source": [
    "Y_pred = nb.predict(X_valid_tf.todense())\n",
    "print('Accuracy Score - ', accuracy_score(valid_y, Y_pred))\n",
    "print(classification_report(valid_y, Y_pred))"
   ]
  },
  {
   "cell_type": "code",
   "execution_count": 88,
   "metadata": {},
   "outputs": [
    {
     "name": "stdout",
     "output_type": "stream",
     "text": [
      "Accuracy Score -  0.8526119402985075\n",
      "              precision    recall  f1-score   support\n",
      "\n",
      "           0       0.42      0.30      0.35       141\n",
      "           1       0.90      0.94      0.92       931\n",
      "\n",
      "    accuracy                           0.85      1072\n",
      "   macro avg       0.66      0.62      0.63      1072\n",
      "weighted avg       0.84      0.85      0.84      1072\n",
      "\n"
     ]
    },
    {
     "name": "stderr",
     "output_type": "stream",
     "text": [
      "C:\\Users\\lenny\\anaconda3\\envs\\my-env-for-ads509\\lib\\site-packages\\sklearn\\utils\\validation.py:727: FutureWarning: np.matrix usage is deprecated in 1.0 and will raise a TypeError in 1.2. Please convert to a numpy array with np.asarray. For more information see: https://numpy.org/doc/stable/reference/generated/numpy.matrix.html\n",
      "  warnings.warn(\n"
     ]
    }
   ],
   "source": [
    "Y_pred = nb.predict(X_test_tf.todense())\n",
    "print('Accuracy Score - ', accuracy_score(test_y, Y_pred))\n",
    "print(classification_report(test_y, Y_pred))"
   ]
  },
  {
   "cell_type": "markdown",
   "metadata": {},
   "source": [
    "#### K- Nearest Neighbours"
   ]
  },
  {
   "cell_type": "code",
   "execution_count": 61,
   "metadata": {},
   "outputs": [
    {
     "data": {
      "text/html": [
       "<style>#sk-container-id-3 {color: black;background-color: white;}#sk-container-id-3 pre{padding: 0;}#sk-container-id-3 div.sk-toggleable {background-color: white;}#sk-container-id-3 label.sk-toggleable__label {cursor: pointer;display: block;width: 100%;margin-bottom: 0;padding: 0.3em;box-sizing: border-box;text-align: center;}#sk-container-id-3 label.sk-toggleable__label-arrow:before {content: \"▸\";float: left;margin-right: 0.25em;color: #696969;}#sk-container-id-3 label.sk-toggleable__label-arrow:hover:before {color: black;}#sk-container-id-3 div.sk-estimator:hover label.sk-toggleable__label-arrow:before {color: black;}#sk-container-id-3 div.sk-toggleable__content {max-height: 0;max-width: 0;overflow: hidden;text-align: left;background-color: #f0f8ff;}#sk-container-id-3 div.sk-toggleable__content pre {margin: 0.2em;color: black;border-radius: 0.25em;background-color: #f0f8ff;}#sk-container-id-3 input.sk-toggleable__control:checked~div.sk-toggleable__content {max-height: 200px;max-width: 100%;overflow: auto;}#sk-container-id-3 input.sk-toggleable__control:checked~label.sk-toggleable__label-arrow:before {content: \"▾\";}#sk-container-id-3 div.sk-estimator input.sk-toggleable__control:checked~label.sk-toggleable__label {background-color: #d4ebff;}#sk-container-id-3 div.sk-label input.sk-toggleable__control:checked~label.sk-toggleable__label {background-color: #d4ebff;}#sk-container-id-3 input.sk-hidden--visually {border: 0;clip: rect(1px 1px 1px 1px);clip: rect(1px, 1px, 1px, 1px);height: 1px;margin: -1px;overflow: hidden;padding: 0;position: absolute;width: 1px;}#sk-container-id-3 div.sk-estimator {font-family: monospace;background-color: #f0f8ff;border: 1px dotted black;border-radius: 0.25em;box-sizing: border-box;margin-bottom: 0.5em;}#sk-container-id-3 div.sk-estimator:hover {background-color: #d4ebff;}#sk-container-id-3 div.sk-parallel-item::after {content: \"\";width: 100%;border-bottom: 1px solid gray;flex-grow: 1;}#sk-container-id-3 div.sk-label:hover label.sk-toggleable__label {background-color: #d4ebff;}#sk-container-id-3 div.sk-serial::before {content: \"\";position: absolute;border-left: 1px solid gray;box-sizing: border-box;top: 0;bottom: 0;left: 50%;z-index: 0;}#sk-container-id-3 div.sk-serial {display: flex;flex-direction: column;align-items: center;background-color: white;padding-right: 0.2em;padding-left: 0.2em;position: relative;}#sk-container-id-3 div.sk-item {position: relative;z-index: 1;}#sk-container-id-3 div.sk-parallel {display: flex;align-items: stretch;justify-content: center;background-color: white;position: relative;}#sk-container-id-3 div.sk-item::before, #sk-container-id-3 div.sk-parallel-item::before {content: \"\";position: absolute;border-left: 1px solid gray;box-sizing: border-box;top: 0;bottom: 0;left: 50%;z-index: -1;}#sk-container-id-3 div.sk-parallel-item {display: flex;flex-direction: column;z-index: 1;position: relative;background-color: white;}#sk-container-id-3 div.sk-parallel-item:first-child::after {align-self: flex-end;width: 50%;}#sk-container-id-3 div.sk-parallel-item:last-child::after {align-self: flex-start;width: 50%;}#sk-container-id-3 div.sk-parallel-item:only-child::after {width: 0;}#sk-container-id-3 div.sk-dashed-wrapped {border: 1px dashed gray;margin: 0 0.4em 0.5em 0.4em;box-sizing: border-box;padding-bottom: 0.4em;background-color: white;}#sk-container-id-3 div.sk-label label {font-family: monospace;font-weight: bold;display: inline-block;line-height: 1.2em;}#sk-container-id-3 div.sk-label-container {text-align: center;}#sk-container-id-3 div.sk-container {/* jupyter's `normalize.less` sets `[hidden] { display: none; }` but bootstrap.min.css set `[hidden] { display: none !important; }` so we also need the `!important` here to be able to override the default hidden behavior on the sphinx rendered scikit-learn.org. See: https://github.com/scikit-learn/scikit-learn/issues/21755 */display: inline-block !important;position: relative;}#sk-container-id-3 div.sk-text-repr-fallback {display: none;}</style><div id=\"sk-container-id-3\" class=\"sk-top-container\"><div class=\"sk-text-repr-fallback\"><pre>KNeighborsClassifier(n_neighbors=15)</pre><b>In a Jupyter environment, please rerun this cell to show the HTML representation or trust the notebook. <br />On GitHub, the HTML representation is unable to render, please try loading this page with nbviewer.org.</b></div><div class=\"sk-container\" hidden><div class=\"sk-item\"><div class=\"sk-estimator sk-toggleable\"><input class=\"sk-toggleable__control sk-hidden--visually\" id=\"sk-estimator-id-3\" type=\"checkbox\" checked><label for=\"sk-estimator-id-3\" class=\"sk-toggleable__label sk-toggleable__label-arrow\">KNeighborsClassifier</label><div class=\"sk-toggleable__content\"><pre>KNeighborsClassifier(n_neighbors=15)</pre></div></div></div></div></div>"
      ],
      "text/plain": [
       "KNeighborsClassifier(n_neighbors=15)"
      ]
     },
     "execution_count": 61,
     "metadata": {},
     "output_type": "execute_result"
    }
   ],
   "source": [
    "knn = KNeighborsClassifier(n_neighbors=15)\n",
    "knn.fit(X_train_tf, new_train_y)"
   ]
  },
  {
   "cell_type": "code",
   "execution_count": 83,
   "metadata": {},
   "outputs": [
    {
     "name": "stdout",
     "output_type": "stream",
     "text": [
      "Accuracy Score -  0.6274509803921569\n",
      "              precision    recall  f1-score   support\n",
      "\n",
      "           0       0.24      0.88      0.38       140\n",
      "           1       0.97      0.59      0.73       931\n",
      "\n",
      "    accuracy                           0.63      1071\n",
      "   macro avg       0.61      0.73      0.56      1071\n",
      "weighted avg       0.88      0.63      0.69      1071\n",
      "\n"
     ]
    }
   ],
   "source": [
    "Y_pred = knn.predict(X_valid_tf)\n",
    "print('Accuracy Score - ', accuracy_score(valid_y, Y_pred))\n",
    "print(classification_report(valid_y, Y_pred))"
   ]
  },
  {
   "cell_type": "code",
   "execution_count": 84,
   "metadata": {},
   "outputs": [
    {
     "name": "stdout",
     "output_type": "stream",
     "text": [
      "Accuracy Score -  0.6184701492537313\n",
      "              precision    recall  f1-score   support\n",
      "\n",
      "           0       0.24      0.84      0.37       141\n",
      "           1       0.96      0.58      0.73       931\n",
      "\n",
      "    accuracy                           0.62      1072\n",
      "   macro avg       0.60      0.71      0.55      1072\n",
      "weighted avg       0.87      0.62      0.68      1072\n",
      "\n"
     ]
    }
   ],
   "source": [
    "Y_pred = knn.predict(X_test_tf)\n",
    "print('Accuracy Score - ', accuracy_score(test_y, Y_pred))\n",
    "print(classification_report(test_y, Y_pred))"
   ]
  },
  {
   "cell_type": "markdown",
   "metadata": {},
   "source": [
    "#### Random Forest"
   ]
  },
  {
   "cell_type": "code",
   "execution_count": 72,
   "metadata": {},
   "outputs": [
    {
     "data": {
      "text/html": [
       "<style>#sk-container-id-8 {color: black;background-color: white;}#sk-container-id-8 pre{padding: 0;}#sk-container-id-8 div.sk-toggleable {background-color: white;}#sk-container-id-8 label.sk-toggleable__label {cursor: pointer;display: block;width: 100%;margin-bottom: 0;padding: 0.3em;box-sizing: border-box;text-align: center;}#sk-container-id-8 label.sk-toggleable__label-arrow:before {content: \"▸\";float: left;margin-right: 0.25em;color: #696969;}#sk-container-id-8 label.sk-toggleable__label-arrow:hover:before {color: black;}#sk-container-id-8 div.sk-estimator:hover label.sk-toggleable__label-arrow:before {color: black;}#sk-container-id-8 div.sk-toggleable__content {max-height: 0;max-width: 0;overflow: hidden;text-align: left;background-color: #f0f8ff;}#sk-container-id-8 div.sk-toggleable__content pre {margin: 0.2em;color: black;border-radius: 0.25em;background-color: #f0f8ff;}#sk-container-id-8 input.sk-toggleable__control:checked~div.sk-toggleable__content {max-height: 200px;max-width: 100%;overflow: auto;}#sk-container-id-8 input.sk-toggleable__control:checked~label.sk-toggleable__label-arrow:before {content: \"▾\";}#sk-container-id-8 div.sk-estimator input.sk-toggleable__control:checked~label.sk-toggleable__label {background-color: #d4ebff;}#sk-container-id-8 div.sk-label input.sk-toggleable__control:checked~label.sk-toggleable__label {background-color: #d4ebff;}#sk-container-id-8 input.sk-hidden--visually {border: 0;clip: rect(1px 1px 1px 1px);clip: rect(1px, 1px, 1px, 1px);height: 1px;margin: -1px;overflow: hidden;padding: 0;position: absolute;width: 1px;}#sk-container-id-8 div.sk-estimator {font-family: monospace;background-color: #f0f8ff;border: 1px dotted black;border-radius: 0.25em;box-sizing: border-box;margin-bottom: 0.5em;}#sk-container-id-8 div.sk-estimator:hover {background-color: #d4ebff;}#sk-container-id-8 div.sk-parallel-item::after {content: \"\";width: 100%;border-bottom: 1px solid gray;flex-grow: 1;}#sk-container-id-8 div.sk-label:hover label.sk-toggleable__label {background-color: #d4ebff;}#sk-container-id-8 div.sk-serial::before {content: \"\";position: absolute;border-left: 1px solid gray;box-sizing: border-box;top: 0;bottom: 0;left: 50%;z-index: 0;}#sk-container-id-8 div.sk-serial {display: flex;flex-direction: column;align-items: center;background-color: white;padding-right: 0.2em;padding-left: 0.2em;position: relative;}#sk-container-id-8 div.sk-item {position: relative;z-index: 1;}#sk-container-id-8 div.sk-parallel {display: flex;align-items: stretch;justify-content: center;background-color: white;position: relative;}#sk-container-id-8 div.sk-item::before, #sk-container-id-8 div.sk-parallel-item::before {content: \"\";position: absolute;border-left: 1px solid gray;box-sizing: border-box;top: 0;bottom: 0;left: 50%;z-index: -1;}#sk-container-id-8 div.sk-parallel-item {display: flex;flex-direction: column;z-index: 1;position: relative;background-color: white;}#sk-container-id-8 div.sk-parallel-item:first-child::after {align-self: flex-end;width: 50%;}#sk-container-id-8 div.sk-parallel-item:last-child::after {align-self: flex-start;width: 50%;}#sk-container-id-8 div.sk-parallel-item:only-child::after {width: 0;}#sk-container-id-8 div.sk-dashed-wrapped {border: 1px dashed gray;margin: 0 0.4em 0.5em 0.4em;box-sizing: border-box;padding-bottom: 0.4em;background-color: white;}#sk-container-id-8 div.sk-label label {font-family: monospace;font-weight: bold;display: inline-block;line-height: 1.2em;}#sk-container-id-8 div.sk-label-container {text-align: center;}#sk-container-id-8 div.sk-container {/* jupyter's `normalize.less` sets `[hidden] { display: none; }` but bootstrap.min.css set `[hidden] { display: none !important; }` so we also need the `!important` here to be able to override the default hidden behavior on the sphinx rendered scikit-learn.org. See: https://github.com/scikit-learn/scikit-learn/issues/21755 */display: inline-block !important;position: relative;}#sk-container-id-8 div.sk-text-repr-fallback {display: none;}</style><div id=\"sk-container-id-8\" class=\"sk-top-container\"><div class=\"sk-text-repr-fallback\"><pre>RandomForestClassifier(max_depth=50, random_state=0)</pre><b>In a Jupyter environment, please rerun this cell to show the HTML representation or trust the notebook. <br />On GitHub, the HTML representation is unable to render, please try loading this page with nbviewer.org.</b></div><div class=\"sk-container\" hidden><div class=\"sk-item\"><div class=\"sk-estimator sk-toggleable\"><input class=\"sk-toggleable__control sk-hidden--visually\" id=\"sk-estimator-id-8\" type=\"checkbox\" checked><label for=\"sk-estimator-id-8\" class=\"sk-toggleable__label sk-toggleable__label-arrow\">RandomForestClassifier</label><div class=\"sk-toggleable__content\"><pre>RandomForestClassifier(max_depth=50, random_state=0)</pre></div></div></div></div></div>"
      ],
      "text/plain": [
       "RandomForestClassifier(max_depth=50, random_state=0)"
      ]
     },
     "execution_count": 72,
     "metadata": {},
     "output_type": "execute_result"
    }
   ],
   "source": [
    "rf = RandomForestClassifier(max_depth=50, random_state=0)\n",
    "rf.fit(X_train_tf, new_train_y)"
   ]
  },
  {
   "cell_type": "code",
   "execution_count": 79,
   "metadata": {},
   "outputs": [
    {
     "name": "stdout",
     "output_type": "stream",
     "text": [
      "Accuracy Score -  0.6657329598506069\n",
      "              precision    recall  f1-score   support\n",
      "\n",
      "           0       0.27      0.89      0.41       140\n",
      "           1       0.97      0.63      0.77       931\n",
      "\n",
      "    accuracy                           0.67      1071\n",
      "   macro avg       0.62      0.76      0.59      1071\n",
      "weighted avg       0.88      0.67      0.72      1071\n",
      "\n"
     ]
    }
   ],
   "source": [
    "Y_pred = rf.predict(X_valid_tf)\n",
    "print('Accuracy Score - ', accuracy_score(valid_y, Y_pred))\n",
    "print(classification_report(valid_y, Y_pred))"
   ]
  },
  {
   "cell_type": "code",
   "execution_count": 80,
   "metadata": {},
   "outputs": [
    {
     "name": "stdout",
     "output_type": "stream",
     "text": [
      "Accuracy Score -  0.648320895522388\n",
      "              precision    recall  f1-score   support\n",
      "\n",
      "           0       0.25      0.86      0.39       141\n",
      "           1       0.97      0.62      0.75       931\n",
      "\n",
      "    accuracy                           0.65      1072\n",
      "   macro avg       0.61      0.74      0.57      1072\n",
      "weighted avg       0.87      0.65      0.71      1072\n",
      "\n"
     ]
    }
   ],
   "source": [
    "Y_pred = rf.predict(X_test_tf)\n",
    "print('Accuracy Score - ', accuracy_score(test_y, Y_pred))\n",
    "print(classification_report(test_y, Y_pred))"
   ]
  },
  {
   "cell_type": "markdown",
   "metadata": {},
   "source": [
    "#### Support Vector Machines"
   ]
  },
  {
   "cell_type": "code",
   "execution_count": 76,
   "metadata": {},
   "outputs": [
    {
     "data": {
      "text/html": [
       "<style>#sk-container-id-9 {color: black;background-color: white;}#sk-container-id-9 pre{padding: 0;}#sk-container-id-9 div.sk-toggleable {background-color: white;}#sk-container-id-9 label.sk-toggleable__label {cursor: pointer;display: block;width: 100%;margin-bottom: 0;padding: 0.3em;box-sizing: border-box;text-align: center;}#sk-container-id-9 label.sk-toggleable__label-arrow:before {content: \"▸\";float: left;margin-right: 0.25em;color: #696969;}#sk-container-id-9 label.sk-toggleable__label-arrow:hover:before {color: black;}#sk-container-id-9 div.sk-estimator:hover label.sk-toggleable__label-arrow:before {color: black;}#sk-container-id-9 div.sk-toggleable__content {max-height: 0;max-width: 0;overflow: hidden;text-align: left;background-color: #f0f8ff;}#sk-container-id-9 div.sk-toggleable__content pre {margin: 0.2em;color: black;border-radius: 0.25em;background-color: #f0f8ff;}#sk-container-id-9 input.sk-toggleable__control:checked~div.sk-toggleable__content {max-height: 200px;max-width: 100%;overflow: auto;}#sk-container-id-9 input.sk-toggleable__control:checked~label.sk-toggleable__label-arrow:before {content: \"▾\";}#sk-container-id-9 div.sk-estimator input.sk-toggleable__control:checked~label.sk-toggleable__label {background-color: #d4ebff;}#sk-container-id-9 div.sk-label input.sk-toggleable__control:checked~label.sk-toggleable__label {background-color: #d4ebff;}#sk-container-id-9 input.sk-hidden--visually {border: 0;clip: rect(1px 1px 1px 1px);clip: rect(1px, 1px, 1px, 1px);height: 1px;margin: -1px;overflow: hidden;padding: 0;position: absolute;width: 1px;}#sk-container-id-9 div.sk-estimator {font-family: monospace;background-color: #f0f8ff;border: 1px dotted black;border-radius: 0.25em;box-sizing: border-box;margin-bottom: 0.5em;}#sk-container-id-9 div.sk-estimator:hover {background-color: #d4ebff;}#sk-container-id-9 div.sk-parallel-item::after {content: \"\";width: 100%;border-bottom: 1px solid gray;flex-grow: 1;}#sk-container-id-9 div.sk-label:hover label.sk-toggleable__label {background-color: #d4ebff;}#sk-container-id-9 div.sk-serial::before {content: \"\";position: absolute;border-left: 1px solid gray;box-sizing: border-box;top: 0;bottom: 0;left: 50%;z-index: 0;}#sk-container-id-9 div.sk-serial {display: flex;flex-direction: column;align-items: center;background-color: white;padding-right: 0.2em;padding-left: 0.2em;position: relative;}#sk-container-id-9 div.sk-item {position: relative;z-index: 1;}#sk-container-id-9 div.sk-parallel {display: flex;align-items: stretch;justify-content: center;background-color: white;position: relative;}#sk-container-id-9 div.sk-item::before, #sk-container-id-9 div.sk-parallel-item::before {content: \"\";position: absolute;border-left: 1px solid gray;box-sizing: border-box;top: 0;bottom: 0;left: 50%;z-index: -1;}#sk-container-id-9 div.sk-parallel-item {display: flex;flex-direction: column;z-index: 1;position: relative;background-color: white;}#sk-container-id-9 div.sk-parallel-item:first-child::after {align-self: flex-end;width: 50%;}#sk-container-id-9 div.sk-parallel-item:last-child::after {align-self: flex-start;width: 50%;}#sk-container-id-9 div.sk-parallel-item:only-child::after {width: 0;}#sk-container-id-9 div.sk-dashed-wrapped {border: 1px dashed gray;margin: 0 0.4em 0.5em 0.4em;box-sizing: border-box;padding-bottom: 0.4em;background-color: white;}#sk-container-id-9 div.sk-label label {font-family: monospace;font-weight: bold;display: inline-block;line-height: 1.2em;}#sk-container-id-9 div.sk-label-container {text-align: center;}#sk-container-id-9 div.sk-container {/* jupyter's `normalize.less` sets `[hidden] { display: none; }` but bootstrap.min.css set `[hidden] { display: none !important; }` so we also need the `!important` here to be able to override the default hidden behavior on the sphinx rendered scikit-learn.org. See: https://github.com/scikit-learn/scikit-learn/issues/21755 */display: inline-block !important;position: relative;}#sk-container-id-9 div.sk-text-repr-fallback {display: none;}</style><div id=\"sk-container-id-9\" class=\"sk-top-container\"><div class=\"sk-text-repr-fallback\"><pre>SVC()</pre><b>In a Jupyter environment, please rerun this cell to show the HTML representation or trust the notebook. <br />On GitHub, the HTML representation is unable to render, please try loading this page with nbviewer.org.</b></div><div class=\"sk-container\" hidden><div class=\"sk-item\"><div class=\"sk-estimator sk-toggleable\"><input class=\"sk-toggleable__control sk-hidden--visually\" id=\"sk-estimator-id-9\" type=\"checkbox\" checked><label for=\"sk-estimator-id-9\" class=\"sk-toggleable__label sk-toggleable__label-arrow\">SVC</label><div class=\"sk-toggleable__content\"><pre>SVC()</pre></div></div></div></div></div>"
      ],
      "text/plain": [
       "SVC()"
      ]
     },
     "execution_count": 76,
     "metadata": {},
     "output_type": "execute_result"
    }
   ],
   "source": [
    "svm = svm.SVC()\n",
    "svm.fit(X_train_tf, new_train_y)"
   ]
  },
  {
   "cell_type": "code",
   "execution_count": 81,
   "metadata": {},
   "outputs": [
    {
     "name": "stdout",
     "output_type": "stream",
     "text": [
      "Accuracy Score -  0.6573295985060691\n",
      "              precision    recall  f1-score   support\n",
      "\n",
      "           0       0.26      0.86      0.40       140\n",
      "           1       0.97      0.63      0.76       931\n",
      "\n",
      "    accuracy                           0.66      1071\n",
      "   macro avg       0.61      0.75      0.58      1071\n",
      "weighted avg       0.88      0.66      0.71      1071\n",
      "\n"
     ]
    }
   ],
   "source": [
    "Y_pred = svm.predict(X_valid_tf)\n",
    "print('Accuracy Score - ', accuracy_score(valid_y, Y_pred))\n",
    "print(classification_report(valid_y, Y_pred))"
   ]
  },
  {
   "cell_type": "code",
   "execution_count": 82,
   "metadata": {},
   "outputs": [
    {
     "name": "stdout",
     "output_type": "stream",
     "text": [
      "Accuracy Score -  0.6632462686567164\n",
      "              precision    recall  f1-score   support\n",
      "\n",
      "           0       0.26      0.84      0.40       141\n",
      "           1       0.96      0.64      0.77       931\n",
      "\n",
      "    accuracy                           0.66      1072\n",
      "   macro avg       0.61      0.74      0.58      1072\n",
      "weighted avg       0.87      0.66      0.72      1072\n",
      "\n"
     ]
    }
   ],
   "source": [
    "Y_pred = svm.predict(X_test_tf)\n",
    "print('Accuracy Score - ', accuracy_score(test_y, Y_pred))\n",
    "print(classification_report(test_y, Y_pred))"
   ]
  },
  {
   "cell_type": "markdown",
   "metadata": {},
   "source": [
    "#### Topic Modeling: LSA"
   ]
  },
  {
   "cell_type": "markdown",
   "metadata": {},
   "source": [
    "In this section, we will try to find 5 topics that are divided among the 5 different products that were in our data set: \n",
    "Calculator,  Apple AirPods, PS5, Flashlight, and Printor"
   ]
  },
  {
   "cell_type": "code",
   "execution_count": 91,
   "metadata": {},
   "outputs": [],
   "source": [
    "def display_topics(model, features, no_top_words=5):\n",
    "    for topic, words in enumerate(model.components_):\n",
    "        total = words.sum()\n",
    "        largest = words.argsort()[::-1] # invert sort order\n",
    "        print(\"\\nTopic %02d\" % topic)\n",
    "        for i in range(0, no_top_words):\n",
    "            print(\"  %s (%2.2f)\" % (features[largest[i]], abs(words[largest[i]]*100.0/total)))"
   ]
  },
  {
   "cell_type": "code",
   "execution_count": 92,
   "metadata": {},
   "outputs": [],
   "source": [
    "# performing the same steps for all the X data\n",
    "\n",
    "new_x = []\n",
    "\n",
    "for i in X.index:\n",
    "    new_x.append(' '.join(X[i]))\n",
    "\n",
    "x_df = []\n",
    "x_df = pd.DataFrame(x_df)\n",
    "x_df['Clean Title'] = pd.DataFrame(new_x)\n",
    "new_X = x_df\n",
    "new_X = new_X['Clean Title']"
   ]
  },
  {
   "cell_type": "code",
   "execution_count": 93,
   "metadata": {},
   "outputs": [
    {
     "data": {
      "text/plain": [
       "(7141, 279)"
      ]
     },
     "execution_count": 93,
     "metadata": {},
     "output_type": "execute_result"
    }
   ],
   "source": [
    "tfidf_text_vectorizer = tfidf.fit_transform(new_X)\n",
    "tfidf_text_vectorizer.shape"
   ]
  },
  {
   "cell_type": "code",
   "execution_count": 104,
   "metadata": {},
   "outputs": [
    {
     "name": "stdout",
     "output_type": "stream",
     "text": [
      "\n",
      "Topic 00\n",
      "  great (35.47)\n",
      "  product (7.69)\n",
      "  great product (7.16)\n",
      "  good (3.23)\n",
      "  calculator (2.88)\n",
      "\n",
      "Topic 01\n",
      "  good (58.87)\n",
      "  good product (6.08)\n",
      "  product (5.46)\n",
      "  calculator (2.05)\n",
      "  good calculator (1.90)\n",
      "\n",
      "Topic 02\n",
      "  ps5 (83.03)\n",
      "  awesome (4.02)\n",
      "  love (2.86)\n",
      "  review (1.96)\n",
      "  love ps5 (1.96)\n",
      "\n",
      "Topic 03\n",
      "  awesome (55.29)\n",
      "  calculator (8.29)\n",
      "  product (3.95)\n",
      "  ti83 (2.63)\n",
      "  awesome product (2.27)\n",
      "\n",
      "Topic 04\n",
      "  calculator (39.65)\n",
      "  ti83 (13.24)\n",
      "  great calculator (9.20)\n",
      "  plus (6.77)\n",
      "  ti83 plus (6.29)\n"
     ]
    }
   ],
   "source": [
    "svd_para_model = TruncatedSVD(n_components = 5, random_state=42)\n",
    "W_svd_para_matrix = svd_para_model.fit_transform(tfidf_text_vectorizer)\n",
    "H_svd_para_matrix = svd_para_model.components_\n",
    "\n",
    "display_topics(svd_para_model, tfidf.get_feature_names_out())"
   ]
  },
  {
   "cell_type": "markdown",
   "metadata": {},
   "source": [
    "There are only really two topics seen here, the calculator (00, 01, 03, 04) and the PS5 (02)."
   ]
  },
  {
   "cell_type": "markdown",
   "metadata": {},
   "source": [
    "#### Topic Modeling: LDA"
   ]
  },
  {
   "cell_type": "code",
   "execution_count": 97,
   "metadata": {},
   "outputs": [
    {
     "name": "stderr",
     "output_type": "stream",
     "text": [
      "C:\\Users\\lenny\\anaconda3\\envs\\my-env-for-ads509\\lib\\site-packages\\sklearn\\feature_extraction\\text.py:404: UserWarning: Your stop_words may be inconsistent with your preprocessing. Tokenizing the stop words generated tokens ['ll', 've'] not in stop_words.\n",
      "  warnings.warn(\n"
     ]
    },
    {
     "data": {
      "text/plain": [
       "(7141, 358)"
      ]
     },
     "execution_count": 97,
     "metadata": {},
     "output_type": "execute_result"
    }
   ],
   "source": [
    "count_text_vectorizer = CountVectorizer(stop_words=stopwords, min_df=5, max_df=0.7)\n",
    "count_text_vectors = count_text_vectorizer.fit_transform(new_X)\n",
    "count_text_vectors.shape"
   ]
  },
  {
   "cell_type": "code",
   "execution_count": 98,
   "metadata": {},
   "outputs": [],
   "source": [
    "lda_text_model = LatentDirichletAllocation(n_components = 5, random_state=42)\n",
    "W_lda_text_matrix = lda_text_model.fit_transform(count_text_vectors)\n",
    "H_lda_text_matrix = lda_text_model.components_"
   ]
  },
  {
   "cell_type": "code",
   "execution_count": 103,
   "metadata": {},
   "outputs": [
    {
     "name": "stdout",
     "output_type": "stream",
     "text": [
      "\n",
      "Topic 00\n",
      "  ps5 (17.00)\n",
      "  love (9.78)\n",
      "  excellent (9.25)\n",
      "  printer (5.64)\n",
      "  buy (4.51)\n",
      "\n",
      "Topic 01\n",
      "  calculator (16.12)\n",
      "  great (10.45)\n",
      "  best (7.48)\n",
      "  purchase (3.85)\n",
      "  graphing (3.38)\n",
      "\n",
      "Topic 02\n",
      "  great (29.72)\n",
      "  product (13.35)\n",
      "  awesome (7.39)\n",
      "  price (4.79)\n",
      "  perfect (4.19)\n",
      "\n",
      "Topic 03\n",
      "  good (29.21)\n",
      "  airpods (8.78)\n",
      "  pro (4.38)\n",
      "  system (3.19)\n",
      "  work (2.78)\n",
      "\n",
      "Topic 04\n",
      "  ti83 (10.68)\n",
      "  calculator (7.73)\n",
      "  plus (7.11)\n",
      "  amazing (5.23)\n",
      "  nice (4.90)\n"
     ]
    }
   ],
   "source": [
    "# Call `display_topics` on your fitted model here\n",
    "display_topics(lda_text_model, count_text_vectorizer.get_feature_names_out())"
   ]
  },
  {
   "cell_type": "markdown",
   "metadata": {},
   "source": [
    "#### Topic Modeling: NMF"
   ]
  },
  {
   "cell_type": "code",
   "execution_count": 102,
   "metadata": {},
   "outputs": [
    {
     "name": "stdout",
     "output_type": "stream",
     "text": [
      "\n",
      "Topic 00\n",
      "  great (42.91)\n",
      "  product (8.63)\n",
      "  great product (8.57)\n",
      "  great calculator (2.14)\n",
      "  works (2.10)\n",
      "\n",
      "Topic 01\n",
      "  good (55.17)\n",
      "  good product (5.67)\n",
      "  product (5.38)\n",
      "  good calculator (1.63)\n",
      "  good value (1.55)\n",
      "\n",
      "Topic 02\n",
      "  ps5 (77.28)\n",
      "  love (2.59)\n",
      "  review (1.82)\n",
      "  love ps5 (1.81)\n",
      "  amazing (1.80)\n",
      "\n",
      "Topic 03\n",
      "  awesome (71.05)\n",
      "  product (3.31)\n",
      "  awesome product (2.85)\n",
      "  airpods (1.83)\n",
      "  console (1.63)\n",
      "\n",
      "Topic 04\n",
      "  calculator (26.92)\n",
      "  ti83 (9.25)\n",
      "  great calculator (5.74)\n",
      "  plus (4.69)\n",
      "  ti83 plus (4.35)\n"
     ]
    }
   ],
   "source": [
    "nmf_text_model = NMF(n_components=5, random_state=42)\n",
    "W_text_matrix = nmf_text_model.fit_transform(tfidf_text_vectorizer)\n",
    "H_text_matrix = nmf_text_model.components_\n",
    "\n",
    "display_topics(nmf_text_model, tfidf.get_feature_names_out())"
   ]
  }
 ],
 "metadata": {
  "kernelspec": {
   "display_name": "Python 3 (ipykernel)",
   "language": "python",
   "name": "python3"
  },
  "language_info": {
   "codemirror_mode": {
    "name": "ipython",
    "version": 3
   },
   "file_extension": ".py",
   "mimetype": "text/x-python",
   "name": "python",
   "nbconvert_exporter": "python",
   "pygments_lexer": "ipython3",
   "version": "3.7.8"
  }
 },
 "nbformat": 4,
 "nbformat_minor": 4
}
