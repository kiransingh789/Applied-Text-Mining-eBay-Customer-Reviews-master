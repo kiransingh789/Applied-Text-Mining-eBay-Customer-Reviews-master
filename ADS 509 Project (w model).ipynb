{
 "cells": [
  {
   "cell_type": "markdown",
   "metadata": {},
   "source": [
    "# eBay Review Classification\n",
    "## Team 10\n",
    "### Leonard Littleton, Kiran Singh, Andrew Zazueta"
   ]
  },
  {
   "cell_type": "markdown",
   "metadata": {},
   "source": [
    "## Libraries"
   ]
  },
  {
   "cell_type": "code",
   "execution_count": 119,
   "metadata": {},
   "outputs": [],
   "source": [
    "import pandas as pd\n",
    "import numpy as np\n",
    "from bs4 import BeautifulSoup\n",
    "import requests\n",
    "\n",
    "from string import punctuation\n",
    "from nltk.corpus import stopwords\n",
    "import re\n",
    "import emoji\n",
    "\n",
    "import seaborn as sns\n",
    "\n",
    "from sklearn.model_selection import train_test_split\n",
    "from sklearn.decomposition import TruncatedSVD\n",
    "from sklearn.feature_extraction.text import TfidfVectorizer\n",
    "from sklearn.svm import LinearSVC\n",
    "from sklearn.metrics import accuracy_score\n",
    "from sklearn.metrics import classification_report"
   ]
  },
  {
   "cell_type": "markdown",
   "metadata": {},
   "source": [
    "## Reading in Data from eBay"
   ]
  },
  {
   "cell_type": "markdown",
   "metadata": {},
   "source": [
    "#### Custom Functions"
   ]
  },
  {
   "cell_type": "code",
   "execution_count": 87,
   "metadata": {},
   "outputs": [],
   "source": [
    "# Generating links by imputting review page link\n",
    "\n",
    "def link_generator(url):\n",
    "    \n",
    "    # truncating link to get base\n",
    "    \n",
    "    page = url\n",
    "    page_base = page[:-1]\n",
    "\n",
    "    # finding total review pages\n",
    "\n",
    "    r = requests.get(page)\n",
    "    soup = BeautifulSoup(r.text, 'html.parser')\n",
    "    total_pages = int(str(soup).split('\"totalPages\":')[1].split('}')[0])\n",
    "    links = []\n",
    "\n",
    "    # generating links\n",
    "    \n",
    "    for link in range(1,total_pages+1):\n",
    "        links.append(page_base+str(link))\n",
    "    \n",
    "    return links\n",
    "\n",
    "def ebay_scrape(links):\n",
    "    \n",
    "    stars = []\n",
    "    content = []\n",
    "    titles = []\n",
    "    \n",
    "    for page in links:\n",
    "    \n",
    "        r = requests.get(page)\n",
    "        soup = BeautifulSoup(r.text, 'html.parser')\n",
    "    \n",
    "        for star in soup.find_all('div', class_='ebay-review-section-l'): \n",
    "            stars.append(star.find('span','star-rating')['aria-label'])\n",
    "        \n",
    "        for review_content in soup.find_all('p', class_ = 'review-item-content rvw-wrap-spaces'): \n",
    "            content.append(review_content.text)\n",
    "    \n",
    "        for review_title in soup.find_all('h3', class_ = 'review-item-title rvw-nowrap-spaces'): \n",
    "            titles.append(review_title.text)\n",
    "            \n",
    "    return stars, content, titles"
   ]
  },
  {
   "cell_type": "markdown",
   "metadata": {},
   "source": [
    "#### Product 1: Texas Instruments TI-83 Plus Graphing Calculator"
   ]
  },
  {
   "cell_type": "code",
   "execution_count": 93,
   "metadata": {},
   "outputs": [],
   "source": [
    "# initialzing df\n",
    "\n",
    "eBay_1 = []\n",
    "eBay_1 = pd.DataFrame(eBay_1)"
   ]
  },
  {
   "cell_type": "code",
   "execution_count": 94,
   "metadata": {},
   "outputs": [],
   "source": [
    "# Getting page and page base to generate links\n",
    "\n",
    "url = 'https://www.ebay.com/urw/Texas-Instruments-TI-83-Plus-Graphing-Calculator/product-reviews/54847886?condition=all&pgn=1'\n",
    "links = link_generator(url)"
   ]
  },
  {
   "cell_type": "code",
   "execution_count": 95,
   "metadata": {},
   "outputs": [],
   "source": [
    "# using ebay_scrape to collect star rating, the content of the reviews, and the review title\n",
    "\n",
    "stars, content, titles = ebay_scrape(links) "
   ]
  },
  {
   "cell_type": "code",
   "execution_count": 96,
   "metadata": {},
   "outputs": [],
   "source": [
    "# Putting list into Data Frame\n",
    "\n",
    "eBay_1['Review Title'] = titles\n",
    "#eBay['Review Content'] = content\n",
    "eBay_1['Stars'] = stars\n",
    "eBay_1['Item'] = 'Texas Instruments TI-83 Plus Graphing Calculator'"
   ]
  },
  {
   "cell_type": "markdown",
   "metadata": {},
   "source": [
    "A user must include a title in their review, but content is not needed. This creates a different amount of content items than titles and stars. This results in us having to use titles as our source of text, as there is no way to know which reviews have content in their review or not. "
   ]
  },
  {
   "cell_type": "markdown",
   "metadata": {},
   "source": [
    "#### Product 2: Apple AirPods Pro Left Airpod OEM Left Side Airpods Pro Only"
   ]
  },
  {
   "cell_type": "code",
   "execution_count": 240,
   "metadata": {},
   "outputs": [],
   "source": [
    "# initialzing df\n",
    "\n",
    "eBay_2 = []\n",
    "eBay_2 = pd.DataFrame(eBay_2)"
   ]
  },
  {
   "cell_type": "code",
   "execution_count": 74,
   "metadata": {},
   "outputs": [],
   "source": [
    "# Getting page and page base to generate links\n",
    "\n",
    "url = 'https://www.ebay.com/urw/Apple-AirPods-Pro-Wireless-In-Ear-Headsets-White/product-reviews/10034976643?_itm=115149763582&pgn=1'\n",
    "links = link_generator(url)"
   ]
  },
  {
   "cell_type": "code",
   "execution_count": 242,
   "metadata": {},
   "outputs": [],
   "source": [
    "# using ebay_scrape to collect star rating, the content of the reviews, and the review title\n",
    "\n",
    "stars, content, titles = ebay_scrape(links) "
   ]
  },
  {
   "cell_type": "code",
   "execution_count": 243,
   "metadata": {},
   "outputs": [],
   "source": [
    "# Putting list into Data Frame\n",
    "\n",
    "eBay_2['Review Title'] = titles\n",
    "eBay_2['Stars'] = stars\n",
    "eBay_2['Item'] = 'Apple AirPods Pro Left Airpod OEM Left Side Airpods Pro Only'"
   ]
  },
  {
   "cell_type": "markdown",
   "metadata": {},
   "source": [
    "#### Product 3: Sony PS5 Console w/ Blu-Ray Disc"
   ]
  },
  {
   "cell_type": "code",
   "execution_count": 245,
   "metadata": {},
   "outputs": [],
   "source": [
    "# initialzing df\n",
    "\n",
    "eBay_3 = []\n",
    "eBay_3 = pd.DataFrame(eBay_3)"
   ]
  },
  {
   "cell_type": "code",
   "execution_count": null,
   "metadata": {},
   "outputs": [],
   "source": [
    "# Getting page and page base to generate links\n",
    "\n",
    "url = 'https://www.ebay.com/urw/Sony-PS5-Blu-Ray-Edition-Console-White/product-reviews/19040936896?_itm=265175892133&pgn=1'\n",
    "links = link_generator(url)"
   ]
  },
  {
   "cell_type": "code",
   "execution_count": 247,
   "metadata": {},
   "outputs": [],
   "source": [
    "# using ebay_scrape to collect star rating, the content of the reviews, and the review title\n",
    "\n",
    "stars, content, titles = ebay_scrape(links) "
   ]
  },
  {
   "cell_type": "code",
   "execution_count": 248,
   "metadata": {},
   "outputs": [],
   "source": [
    "# Putting list into Data Frame\n",
    "\n",
    "eBay_3['Review Title'] = titles\n",
    "eBay_3['Stars'] = stars\n",
    "eBay_3['Item'] = 'Sony PS5 Console w/ Blu-Ray Disc'"
   ]
  },
  {
   "cell_type": "markdown",
   "metadata": {},
   "source": [
    "#### Product 4: Super Bright 90000LM LED Tactical Flashlight Zoomable With Rechargeable Battery"
   ]
  },
  {
   "cell_type": "code",
   "execution_count": 250,
   "metadata": {},
   "outputs": [],
   "source": [
    "# initialzing df\n",
    "\n",
    "eBay_4 = []\n",
    "eBay_4 = pd.DataFrame(eBay_4)"
   ]
  },
  {
   "cell_type": "code",
   "execution_count": null,
   "metadata": {},
   "outputs": [],
   "source": [
    "# Getting page and page base to generate links\n",
    "\n",
    "url = 'https://www.ebay.com/urw/Garberiel-AF20171221-8000-Lumens-Tactical-Flashlight-With-Rechargeable-Battery/product-reviews/4041786004?_itm=393096143620&pgn=1'\n",
    "links = link_generator(url)"
   ]
  },
  {
   "cell_type": "code",
   "execution_count": 252,
   "metadata": {},
   "outputs": [],
   "source": [
    "# using ebay_scrape to collect star rating, the content of the reviews, and the review title\n",
    "\n",
    "stars, content, titles = ebay_scrape(links) "
   ]
  },
  {
   "cell_type": "code",
   "execution_count": 253,
   "metadata": {},
   "outputs": [],
   "source": [
    "# Putting list into Data Frame\n",
    "\n",
    "eBay_4['Review Title'] = titles\n",
    "eBay_4['Stars'] = stars\n",
    "eBay_4['Item'] = 'Super Bright 90000LM LED Tactical Flashlight Zoomable With Rechargeable Battery'"
   ]
  },
  {
   "cell_type": "markdown",
   "metadata": {},
   "source": [
    "#### Product 5: Canon PIXMA MG2520 All-In-One Inkjet Printer"
   ]
  },
  {
   "cell_type": "code",
   "execution_count": 79,
   "metadata": {},
   "outputs": [],
   "source": [
    "# initialzing df\n",
    "\n",
    "eBay_5 = []\n",
    "eBay_5 = pd.DataFrame(eBay_5)"
   ]
  },
  {
   "cell_type": "code",
   "execution_count": 76,
   "metadata": {},
   "outputs": [],
   "source": [
    "# Getting page and page base to generate links\n",
    "\n",
    "url = 'https://www.ebay.com/urw/Canon-PIXMA-MG2520-All-In-One-Inkjet-Printer/product-reviews/182754283?pgn=1'\n",
    "links = link_generator(url)"
   ]
  },
  {
   "cell_type": "code",
   "execution_count": 83,
   "metadata": {},
   "outputs": [],
   "source": [
    "# using ebay_scrape to collect star rating, the content of the reviews, and the review title\n",
    "\n",
    "stars, content, titles = ebay_scrape(links) "
   ]
  },
  {
   "cell_type": "code",
   "execution_count": 84,
   "metadata": {},
   "outputs": [],
   "source": [
    "# Putting list into Data Frame\n",
    "\n",
    "eBay_5['Review Title'] = titles\n",
    "eBay_5['Stars'] = stars\n",
    "eBay_5['Item'] = 'Canon PIXMA MG2520 All-In-One Inkjet Printer'"
   ]
  },
  {
   "cell_type": "markdown",
   "metadata": {},
   "source": [
    "### Creating Final Data Frame"
   ]
  },
  {
   "cell_type": "code",
   "execution_count": 262,
   "metadata": {},
   "outputs": [],
   "source": [
    "# Combining data to get one data frame\n",
    "\n",
    "eBay = pd.concat([eBay_1, eBay_2, eBay_3, eBay_4, eBay_5], ignore_index=True)\n",
    "eBay.reset_index(drop = True, inplace = True)"
   ]
  },
  {
   "cell_type": "code",
   "execution_count": 272,
   "metadata": {},
   "outputs": [],
   "source": [
    "# Binning reviews for predictive modeling \n",
    "\n",
    "is_positive = []\n",
    "\n",
    "for stars in eBay['Stars']:\n",
    "    if stars == '5 stars' or stars == '4 stars':\n",
    "        is_positive.append(1)\n",
    "    else:\n",
    "        is_positive.append(0)\n",
    "        \n",
    "eBay['Is_Positive?'] = is_positive"
   ]
  },
  {
   "cell_type": "code",
   "execution_count": 275,
   "metadata": {},
   "outputs": [
    {
     "data": {
      "text/html": [
       "<div>\n",
       "<style scoped>\n",
       "    .dataframe tbody tr th:only-of-type {\n",
       "        vertical-align: middle;\n",
       "    }\n",
       "\n",
       "    .dataframe tbody tr th {\n",
       "        vertical-align: top;\n",
       "    }\n",
       "\n",
       "    .dataframe thead th {\n",
       "        text-align: right;\n",
       "    }\n",
       "</style>\n",
       "<table border=\"1\" class=\"dataframe\">\n",
       "  <thead>\n",
       "    <tr style=\"text-align: right;\">\n",
       "      <th></th>\n",
       "      <th>Item</th>\n",
       "      <th>Review Title</th>\n",
       "      <th>Stars</th>\n",
       "      <th>Is_Positive?</th>\n",
       "    </tr>\n",
       "  </thead>\n",
       "  <tbody>\n",
       "    <tr>\n",
       "      <th>0</th>\n",
       "      <td>Texas Instruments TI-83 Plus Graphing Calculator</td>\n",
       "      <td>Nice item- as we used to say: \"Works fine, las...</td>\n",
       "      <td>5 stars</td>\n",
       "      <td>1</td>\n",
       "    </tr>\n",
       "    <tr>\n",
       "      <th>1</th>\n",
       "      <td>Texas Instruments TI-83 Plus Graphing Calculator</td>\n",
       "      <td>Cheap</td>\n",
       "      <td>3 stars</td>\n",
       "      <td>0</td>\n",
       "    </tr>\n",
       "    <tr>\n",
       "      <th>2</th>\n",
       "      <td>Texas Instruments TI-83 Plus Graphing Calculator</td>\n",
       "      <td>Texas Instruments TI-83 Plus Graphic Calculator</td>\n",
       "      <td>4 stars</td>\n",
       "      <td>1</td>\n",
       "    </tr>\n",
       "    <tr>\n",
       "      <th>3</th>\n",
       "      <td>Texas Instruments TI-83 Plus Graphing Calculator</td>\n",
       "      <td>TI-83</td>\n",
       "      <td>4 stars</td>\n",
       "      <td>1</td>\n",
       "    </tr>\n",
       "    <tr>\n",
       "      <th>4</th>\n",
       "      <td>Texas Instruments TI-83 Plus Graphing Calculator</td>\n",
       "      <td>Handy calculator, solid and functional</td>\n",
       "      <td>4 stars</td>\n",
       "      <td>1</td>\n",
       "    </tr>\n",
       "    <tr>\n",
       "      <th>...</th>\n",
       "      <td>...</td>\n",
       "      <td>...</td>\n",
       "      <td>...</td>\n",
       "      <td>...</td>\n",
       "    </tr>\n",
       "    <tr>\n",
       "      <th>7098</th>\n",
       "      <td>Canon PIXMA MG2520 All-In-One Inkjet Printer</td>\n",
       "      <td>is so so</td>\n",
       "      <td>5 stars</td>\n",
       "      <td>1</td>\n",
       "    </tr>\n",
       "    <tr>\n",
       "      <th>7099</th>\n",
       "      <td>Canon PIXMA MG2520 All-In-One Inkjet Printer</td>\n",
       "      <td>Nice printer great price</td>\n",
       "      <td>5 stars</td>\n",
       "      <td>1</td>\n",
       "    </tr>\n",
       "    <tr>\n",
       "      <th>7100</th>\n",
       "      <td>Canon PIXMA MG2520 All-In-One Inkjet Printer</td>\n",
       "      <td>like it</td>\n",
       "      <td>5 stars</td>\n",
       "      <td>1</td>\n",
       "    </tr>\n",
       "    <tr>\n",
       "      <th>7101</th>\n",
       "      <td>Canon PIXMA MG2520 All-In-One Inkjet Printer</td>\n",
       "      <td>PERFECT</td>\n",
       "      <td>5 stars</td>\n",
       "      <td>1</td>\n",
       "    </tr>\n",
       "    <tr>\n",
       "      <th>7102</th>\n",
       "      <td>Canon PIXMA MG2520 All-In-One Inkjet Printer</td>\n",
       "      <td>Excelente</td>\n",
       "      <td>5 stars</td>\n",
       "      <td>1</td>\n",
       "    </tr>\n",
       "  </tbody>\n",
       "</table>\n",
       "<p>7103 rows × 4 columns</p>\n",
       "</div>"
      ],
      "text/plain": [
       "                                                  Item  \\\n",
       "0     Texas Instruments TI-83 Plus Graphing Calculator   \n",
       "1     Texas Instruments TI-83 Plus Graphing Calculator   \n",
       "2     Texas Instruments TI-83 Plus Graphing Calculator   \n",
       "3     Texas Instruments TI-83 Plus Graphing Calculator   \n",
       "4     Texas Instruments TI-83 Plus Graphing Calculator   \n",
       "...                                                ...   \n",
       "7098      Canon PIXMA MG2520 All-In-One Inkjet Printer   \n",
       "7099      Canon PIXMA MG2520 All-In-One Inkjet Printer   \n",
       "7100      Canon PIXMA MG2520 All-In-One Inkjet Printer   \n",
       "7101      Canon PIXMA MG2520 All-In-One Inkjet Printer   \n",
       "7102      Canon PIXMA MG2520 All-In-One Inkjet Printer   \n",
       "\n",
       "                                           Review Title    Stars  Is_Positive?  \n",
       "0     Nice item- as we used to say: \"Works fine, las...  5 stars             1  \n",
       "1                                                 Cheap  3 stars             0  \n",
       "2       Texas Instruments TI-83 Plus Graphic Calculator  4 stars             1  \n",
       "3                                                 TI-83  4 stars             1  \n",
       "4                Handy calculator, solid and functional  4 stars             1  \n",
       "...                                                 ...      ...           ...  \n",
       "7098                                           is so so  5 stars             1  \n",
       "7099                          Nice printer great price   5 stars             1  \n",
       "7100                                            like it  5 stars             1  \n",
       "7101                                            PERFECT  5 stars             1  \n",
       "7102                                          Excelente  5 stars             1  \n",
       "\n",
       "[7103 rows x 4 columns]"
      ]
     },
     "execution_count": 275,
     "metadata": {},
     "output_type": "execute_result"
    }
   ],
   "source": [
    "# What the final dataframe looks like\n",
    "\n",
    "eBay"
   ]
  },
  {
   "cell_type": "code",
   "execution_count": 274,
   "metadata": {},
   "outputs": [],
   "source": [
    "# Reading DataFrame into CSV\n",
    "\n",
    "eBay.to_csv('C:/Users/mzazu/OneDrive/Documents/USD papers/509/eBay.csv', index=False)"
   ]
  },
  {
   "cell_type": "code",
   "execution_count": 5,
   "metadata": {},
   "outputs": [],
   "source": [
    "# Reading in DataFrame\n",
    "\n",
    "eBay = pd.read_csv('C:/Users/mzazu/OneDrive/Documents/USD papers/509/eBay.csv')"
   ]
  },
  {
   "cell_type": "markdown",
   "metadata": {},
   "source": [
    "### Cleaning Data"
   ]
  },
  {
   "cell_type": "code",
   "execution_count": 8,
   "metadata": {},
   "outputs": [],
   "source": [
    "# Some punctuation variations\n",
    "punctuation = set(punctuation) # speeds up comparison\n",
    "tw_punct = punctuation - {\"#\"}\n",
    "\n",
    "# Stopwords\n",
    "sw = stopwords.words(\"english\")\n",
    "\n",
    "# Two useful regex\n",
    "whitespace_pattern = re.compile(r\"\\s+\")\n",
    "hashtag_pattern = re.compile(r\"^#[0-9a-zA-Z]+\")\n",
    "\n",
    "# full set of emojis\n",
    "all_language_emojis = set()\n",
    "\n",
    "for country in emoji.UNICODE_EMOJI : \n",
    "    for em in emoji.UNICODE_EMOJI[country] : \n",
    "        all_language_emojis.add(em)"
   ]
  },
  {
   "cell_type": "code",
   "execution_count": 9,
   "metadata": {},
   "outputs": [],
   "source": [
    "#function to calculate descriptive stats\n",
    "\n",
    "def descriptive_stats(tokens, num_tokens = 5, verbose=True) :\n",
    "    \"\"\"\n",
    "        Given a list of tokens, print number of tokens, number of unique tokens, \n",
    "        number of characters, lexical diversity (https://en.wikipedia.org/wiki/Lexical_diversity), \n",
    "        and num_tokens most common tokens. Return a list with the number of tokens, number\n",
    "        of unique tokens, lexical diversity, and number of characters. \n",
    "    \n",
    "    \"\"\"\n",
    "\n",
    "    # Fill in the correct values here.\n",
    "    tokes = tokens.split()\n",
    "    num_tokens = sum(map(len, (s.split() for s in tokes)))\n",
    "    num_unique_tokens = len(set(w.lower() for w in tokes))\n",
    "    lexical_diversity = num_unique_tokens / num_tokens\n",
    "    num_characters = sum(list(map(len, tokes)))\n",
    "    \n",
    "    if verbose :        \n",
    "        print(f\"There are {num_tokens} tokens in the data.\")\n",
    "        print(f\"There are {num_unique_tokens} unique tokens in the data.\")\n",
    "        print(f\"There are {num_characters} characters in the data.\")\n",
    "        print(f\"The lexical diversity is {lexical_diversity:.3f} in the data.\")\n",
    "    \n",
    "        # print the five most common tokens\n",
    "        \n",
    "    return([num_tokens, num_unique_tokens,\n",
    "            lexical_diversity,\n",
    "            num_characters])"
   ]
  },
  {
   "cell_type": "code",
   "execution_count": 10,
   "metadata": {},
   "outputs": [],
   "source": [
    "#other useful functions from previous modules\n",
    "def is_emoji(s):\n",
    "    return(s in all_language_emojis)\n",
    "\n",
    "def contains_emoji(s):\n",
    "    \n",
    "    s = str(s)\n",
    "    emojis = [ch for ch in s if is_emoji(ch)]\n",
    "\n",
    "    return(len(emojis) > 0)\n",
    "\n",
    "\n",
    "def remove_stop(tokens) :\n",
    "    # modify this function to remove stopwords\n",
    "    tokens_wo_sw = []\n",
    "    for w in tokens:\n",
    "        if w.lower() not in sw:\n",
    "            tokens_wo_sw.append(w)\n",
    "    return(tokens_wo_sw)\n",
    " \n",
    "def remove_punctuation(text, punct_set=tw_punct): \n",
    "    for ele in text:\n",
    "        if ele in punct_set:\n",
    "            text = text.replace(ele, \"\")\n",
    "    return(text)\n",
    "\n",
    "def tokenize(text) : \n",
    "    \"\"\" Splitting on whitespace rather than the book's tokenize function. That \n",
    "        function will drop tokens like '#hashtag' or '2A', which we need for Twitter. \"\"\"\n",
    "    \n",
    "    # modify this function to return tokens\n",
    "    text = text.split()\n",
    "    return(text)\n",
    "\n",
    "def prepare(text, pipeline) : \n",
    "    tokens = str(text)\n",
    "    \n",
    "    for transform in pipeline : \n",
    "        tokens = transform(tokens)\n",
    "        \n",
    "    return(tokens)"
   ]
  },
  {
   "cell_type": "code",
   "execution_count": 11,
   "metadata": {},
   "outputs": [],
   "source": [
    "my_pipeline = [str.lower, remove_punctuation, tokenize, remove_stop]"
   ]
  },
  {
   "cell_type": "code",
   "execution_count": 12,
   "metadata": {},
   "outputs": [],
   "source": [
    "clean_eBay = []\n",
    "\n",
    "for review in range(len(eBay)):\n",
    "    temp = prepare(eBay['Review Title'][review], my_pipeline)\n",
    "    clean_eBay.append(temp)"
   ]
  },
  {
   "cell_type": "markdown",
   "metadata": {},
   "source": [
    "### Descriptive Statistics"
   ]
  },
  {
   "cell_type": "code",
   "execution_count": 13,
   "metadata": {},
   "outputs": [
    {
     "name": "stdout",
     "output_type": "stream",
     "text": [
      "There are 16880 tokens in the data.\n",
      "There are 3481 unique tokens in the data.\n",
      "There are 160626 characters in the data.\n",
      "The lexical diversity is 0.206 in the data.\n"
     ]
    },
    {
     "data": {
      "text/plain": [
       "[16880, 3481, 0.20622037914691943, 160626]"
      ]
     },
     "execution_count": 13,
     "metadata": {},
     "output_type": "execute_result"
    }
   ],
   "source": [
    "descriptive_stats(str(clean_eBay), verbose=True)"
   ]
  },
  {
   "cell_type": "code",
   "execution_count": 19,
   "metadata": {},
   "outputs": [],
   "source": [
    "# Adding cleaned text to data frame and removing rows without clean data\n",
    "\n",
    "eBay['Clean Title'] = clean_eBay\n",
    "eBay = eBay[eBay['Clean Title'].str.len() != 0]"
   ]
  },
  {
   "cell_type": "code",
   "execution_count": 25,
   "metadata": {},
   "outputs": [
    {
     "data": {
      "image/png": "[encoded data removed]",
      "text/plain": [
       "<Figure size 500x300 with 1 Axes>"
      ]
     },
     "metadata": {},
     "output_type": "display_data"
    }
   ],
   "source": [
    "# Seeing Star rating distribution and Is_Positive? distribution \n",
    "\n",
    "plt.figure(figsize=(5, 3))\n",
    "sns.countplot(data=eBay, x='Stars', order = eBay['Stars'].value_counts().index)\n",
    "plt.show()"
   ]
  },
  {
   "cell_type": "code",
   "execution_count": 28,
   "metadata": {},
   "outputs": [
    {
     "data": {
      "image/png": "[encoded data removed]",
      "text/plain": [
       "<Figure size 500x300 with 1 Axes>"
      ]
     },
     "metadata": {},
     "output_type": "display_data"
    }
   ],
   "source": [
    "plt.figure(figsize=(5, 3))\n",
    "sns.countplot(data=eBay, x='Is_Positive?', order = eBay['Is_Positive?'].value_counts().index)\n",
    "plt.show()"
   ]
  },
  {
   "cell_type": "markdown",
   "metadata": {},
   "source": [
    "Our data is imbalanced, so we will need to balance our training set prior to modeling."
   ]
  },
  {
   "cell_type": "markdown",
   "metadata": {},
   "source": [
    "### Building Models"
   ]
  },
  {
   "cell_type": "markdown",
   "metadata": {},
   "source": [
    "#### Creating sets for model buidling"
   ]
  },
  {
   "cell_type": "code",
   "execution_count": 41,
   "metadata": {},
   "outputs": [],
   "source": [
    "# Splitting Data into testing, validation, and training sets\n",
    "\n",
    "X = eBay['Clean Title']\n",
    "y = eBay['Is_Positive?']\n",
    "train_X, rem_X, train_y, rem_y = train_test_split(X, y, train_size=0.7, random_state=42, stratify = y)\n",
    "valid_X, test_X, valid_y, test_y = train_test_split(rem_X, rem_y, train_size=0.5, random_state=42, stratify = rem_y)"
   ]
  },
  {
   "cell_type": "code",
   "execution_count": 42,
   "metadata": {},
   "outputs": [
    {
     "data": {
      "text/plain": [
       "1    4310\n",
       "0     637\n",
       "Name: Is_Positive?, dtype: int64"
      ]
     },
     "execution_count": 42,
     "metadata": {},
     "output_type": "execute_result"
    }
   ],
   "source": [
    "# Looking at the distribution, we will need to undersample the majority (1s)\n",
    "\n",
    "train_y.value_counts()"
   ]
  },
  {
   "cell_type": "code",
   "execution_count": 49,
   "metadata": {},
   "outputs": [],
   "source": [
    "# randomly picking samples from positive reviews\n",
    "\n",
    "eBay_test = pd.concat([train_X, train_y], axis = 1)\n",
    "\n",
    "positive_indices = eBay_test[eBay_test['Is_Positive?'] == 1].index\n",
    "random_indices = np.random.choice(positive_indices, 637, replace=False)\n",
    "positive_sample = eBay_test.loc[random_indices]"
   ]
  },
  {
   "cell_type": "code",
   "execution_count": 55,
   "metadata": {},
   "outputs": [
    {
     "data": {
      "text/plain": [
       "1    637\n",
       "0    637\n",
       "Name: Is_Positive?, dtype: int64"
      ]
     },
     "execution_count": 55,
     "metadata": {},
     "output_type": "execute_result"
    }
   ],
   "source": [
    "# Joining the data to get our new training set\n",
    "\n",
    "new_train = pd.concat([positive_sample, eBay_test[eBay_test['Is_Positive?'] == 0]], axis = 0)\n",
    "new_train['Is_Positive?'].value_counts()"
   ]
  },
  {
   "cell_type": "markdown",
   "metadata": {},
   "source": [
    "#### Altering data so it can work with LinearSVC model"
   ]
  },
  {
   "cell_type": "code",
   "execution_count": 79,
   "metadata": {},
   "outputs": [],
   "source": [
    "# splitting into X and y\n",
    "\n",
    "new_train_X = new_train['Clean Title']\n",
    "new_train_y = new_train['Is_Positive?']"
   ]
  },
  {
   "cell_type": "code",
   "execution_count": 81,
   "metadata": {},
   "outputs": [],
   "source": [
    "# formating data so it is no longer in list form\n",
    "\n",
    "new_x = []\n",
    "\n",
    "for i in new_train_X.index:\n",
    "    new_x.append(' '.join(new_train_X[i]))\n",
    "\n",
    "new_train_y.reset_index(drop=True,inplace=True)"
   ]
  },
  {
   "cell_type": "code",
   "execution_count": 89,
   "metadata": {},
   "outputs": [],
   "source": [
    "x_df = []\n",
    "x_df = pd.DataFrame(x_df)\n",
    "x_df['Clean Title'] = pd.DataFrame(new_x)"
   ]
  },
  {
   "cell_type": "code",
   "execution_count": 100,
   "metadata": {},
   "outputs": [
    {
     "data": {
      "text/plain": [
       "0                        ti83\n",
       "1                   excellent\n",
       "2           air pods pro 2021\n",
       "3                 airpod pros\n",
       "4           best console ever\n",
       "                ...          \n",
       "1269              big mistake\n",
       "1270                 terrible\n",
       "1271              flashlight￼\n",
       "1272                impressed\n",
       "1273    insane price increase\n",
       "Name: Clean Title, Length: 1274, dtype: object"
      ]
     },
     "execution_count": 100,
     "metadata": {},
     "output_type": "execute_result"
    }
   ],
   "source": [
    "# new x training set\n",
    "\n",
    "new_train_X = x_df\n",
    "new_train_X = new_train_X['Clean Title']\n",
    "new_train_X"
   ]
  },
  {
   "cell_type": "code",
   "execution_count": 84,
   "metadata": {},
   "outputs": [
    {
     "data": {
      "text/plain": [
       "0       1\n",
       "1       1\n",
       "2       1\n",
       "3       1\n",
       "4       1\n",
       "       ..\n",
       "1269    0\n",
       "1270    0\n",
       "1271    0\n",
       "1272    0\n",
       "1273    0\n",
       "Name: Is_Positive?, Length: 1274, dtype: int64"
      ]
     },
     "execution_count": 84,
     "metadata": {},
     "output_type": "execute_result"
    }
   ],
   "source": [
    "# making sure we still have all our data\n",
    "\n",
    "new_train_y"
   ]
  },
  {
   "cell_type": "code",
   "execution_count": 106,
   "metadata": {},
   "outputs": [
    {
     "data": {
      "text/plain": [
       "0                    great allin1 printer\n",
       "1                totally worth investment\n",
       "2       useful calculator everything need\n",
       "3                      awesome calculator\n",
       "4                              suits best\n",
       "                      ...                \n",
       "1055                      well worth wait\n",
       "1056           great features cool design\n",
       "1057                          works great\n",
       "1058                          works great\n",
       "1059                           airpod pro\n",
       "Name: Clean Title, Length: 1060, dtype: object"
      ]
     },
     "execution_count": 106,
     "metadata": {},
     "output_type": "execute_result"
    }
   ],
   "source": [
    "# performing the same steps for our Validation Set\n",
    "\n",
    "new_x = []\n",
    "new_valid_y = valid_y\n",
    "\n",
    "for i in valid_X.index:\n",
    "    new_x.append(' '.join(valid_X[i]))\n",
    "\n",
    "new_valid_y.reset_index(drop=True,inplace=True)\n",
    "\n",
    "x_df = []\n",
    "x_df = pd.DataFrame(x_df)\n",
    "x_df['Clean Title'] = pd.DataFrame(new_x)\n",
    "new_valid_X = x_df\n",
    "new_valid_X = new_valid_X['Clean Title']\n",
    "new_valid_X"
   ]
  },
  {
   "cell_type": "code",
   "execution_count": 107,
   "metadata": {},
   "outputs": [
    {
     "data": {
      "text/plain": [
       "0       1\n",
       "1       1\n",
       "2       1\n",
       "3       1\n",
       "4       1\n",
       "       ..\n",
       "1055    1\n",
       "1056    1\n",
       "1057    1\n",
       "1058    1\n",
       "1059    0\n",
       "Name: Is_Positive?, Length: 1060, dtype: int64"
      ]
     },
     "execution_count": 107,
     "metadata": {},
     "output_type": "execute_result"
    }
   ],
   "source": [
    "# making sure we have the same amount of data\n",
    "\n",
    "new_valid_y"
   ]
  },
  {
   "cell_type": "markdown",
   "metadata": {},
   "source": [
    "#### Bulding LinearSVC Model"
   ]
  },
  {
   "cell_type": "code",
   "execution_count": 112,
   "metadata": {},
   "outputs": [
    {
     "name": "stdout",
     "output_type": "stream",
     "text": [
      "Accuracy Score -  0.6943396226415094\n",
      "              precision    recall  f1-score   support\n",
      "\n",
      "           0       0.27      0.80      0.40       136\n",
      "           1       0.96      0.68      0.79       924\n",
      "\n",
      "    accuracy                           0.69      1060\n",
      "   macro avg       0.61      0.74      0.60      1060\n",
      "weighted avg       0.87      0.69      0.74      1060\n",
      "\n"
     ]
    }
   ],
   "source": [
    "# HyperTuning Parameters with Validation Set\n",
    "\n",
    "tfidf = TfidfVectorizer(min_df=10, ngram_range=(1, 2), stop_words=\"english\")\n",
    "X_train_tf = tfidf.fit_transform(new_train_X)\n",
    "\n",
    "model1 = LinearSVC(random_state=0, tol=1e-5)\n",
    "model1.fit(X_train_tf, new_train_y)\n",
    "\n",
    "\n",
    "X_valid_tf = tfidf.transform(new_valid_X)\n",
    "Y_pred = model1.predict(X_valid_tf)\n",
    "print('Accuracy Score - ', accuracy_score(valid_y, Y_pred))\n",
    "print(classification_report(valid_y, Y_pred))"
   ]
  },
  {
   "cell_type": "code",
   "execution_count": 114,
   "metadata": {},
   "outputs": [],
   "source": [
    "# performing the same steps for our test set\n",
    "\n",
    "new_x = []\n",
    "new_test_y = test_y\n",
    "\n",
    "for i in test_X.index:\n",
    "    new_x.append(' '.join(test_X[i]))\n",
    "\n",
    "new_test_y.reset_index(drop=True,inplace=True)\n",
    "\n",
    "x_df = []\n",
    "x_df = pd.DataFrame(x_df)\n",
    "x_df['Clean Title'] = pd.DataFrame(new_x)\n",
    "new_test_X = x_df\n",
    "new_test_X = new_test_X['Clean Title']"
   ]
  },
  {
   "cell_type": "code",
   "execution_count": 115,
   "metadata": {},
   "outputs": [
    {
     "name": "stdout",
     "output_type": "stream",
     "text": [
      "Accuracy Score -  0.705937794533459\n",
      "              precision    recall  f1-score   support\n",
      "\n",
      "           0       0.28      0.82      0.42       137\n",
      "           1       0.96      0.69      0.80       924\n",
      "\n",
      "    accuracy                           0.71      1061\n",
      "   macro avg       0.62      0.75      0.61      1061\n",
      "weighted avg       0.87      0.71      0.75      1061\n",
      "\n"
     ]
    }
   ],
   "source": [
    "# Using test set\n",
    "\n",
    "X_test_tf = tfidf.transform(new_test_X)\n",
    "Y_pred = model1.predict(X_test_tf)\n",
    "print('Accuracy Score - ', accuracy_score(test_y, Y_pred))\n",
    "print(classification_report(test_y, Y_pred))"
   ]
  },
  {
   "cell_type": "markdown",
   "metadata": {},
   "source": [
    "#### Topic Modeling: LSA"
   ]
  },
  {
   "cell_type": "markdown",
   "metadata": {},
   "source": [
    "In this section, we will try to find 5 topics that are divided among the 5 different products that were in our data set: \n",
    "Calculator,  Apple AirPods, PS5, Flashlight, and Printor"
   ]
  },
  {
   "cell_type": "code",
   "execution_count": 116,
   "metadata": {},
   "outputs": [],
   "source": [
    "def display_topics(model, features, no_top_words=5):\n",
    "    for topic, words in enumerate(model.components_):\n",
    "        total = words.sum()\n",
    "        largest = words.argsort()[::-1] # invert sort order\n",
    "        print(\"\\nTopic %02d\" % topic)\n",
    "        for i in range(0, no_top_words):\n",
    "            print(\"  %s (%2.2f)\" % (features[largest[i]], abs(words[largest[i]]*100.0/total)))"
   ]
  },
  {
   "cell_type": "code",
   "execution_count": 121,
   "metadata": {},
   "outputs": [],
   "source": [
    "# performing the same steps for all the X data\n",
    "\n",
    "new_x = []\n",
    "\n",
    "for i in X.index:\n",
    "    new_x.append(' '.join(X[i]))\n",
    "\n",
    "x_df = []\n",
    "x_df = pd.DataFrame(x_df)\n",
    "x_df['Clean Title'] = pd.DataFrame(new_x)\n",
    "new_X = x_df\n",
    "new_X = new_X['Clean Title']"
   ]
  },
  {
   "cell_type": "code",
   "execution_count": 131,
   "metadata": {},
   "outputs": [
    {
     "data": {
      "text/plain": [
       "(7068, 276)"
      ]
     },
     "execution_count": 131,
     "metadata": {},
     "output_type": "execute_result"
    }
   ],
   "source": [
    "tfidf_text_vectorizer = tfidf.fit_transform(new_X)\n",
    "tfidf_text_vectorizer.shape"
   ]
  },
  {
   "cell_type": "code",
   "execution_count": 129,
   "metadata": {},
   "outputs": [
    {
     "name": "stdout",
     "output_type": "stream",
     "text": [
      "\n",
      "Topic 00\n",
      "  great (35.68)\n",
      "  product (7.72)\n",
      "  great product (7.19)\n",
      "  good (3.05)\n",
      "  calculator (2.89)\n",
      "\n",
      "Topic 01\n",
      "  good (57.45)\n",
      "  good product (6.15)\n",
      "  product (5.71)\n",
      "  calculator (2.13)\n",
      "  good calculator (1.91)\n",
      "\n",
      "Topic 02\n",
      "  ps5 (82.64)\n",
      "  awesome (4.24)\n",
      "  love (2.89)\n",
      "  review (1.98)\n",
      "  love ps5 (1.98)\n",
      "\n",
      "Topic 03\n",
      "  awesome (57.12)\n",
      "  calculator (7.67)\n",
      "  product (4.01)\n",
      "  ti83 (2.47)\n",
      "  awesome product (2.32)\n",
      "\n",
      "Topic 04\n",
      "  calculator (39.01)\n",
      "  ti83 (13.23)\n",
      "  great calculator (9.12)\n",
      "  plus (6.74)\n",
      "  ti83 plus (6.25)\n"
     ]
    }
   ],
   "source": [
    "svd_para_model = TruncatedSVD(n_components = 5, random_state=42)\n",
    "W_svd_para_matrix = svd_para_model.fit_transform(tfidf_text_vectorizer)\n",
    "H_svd_para_matrix = svd_para_model.components_\n",
    "\n",
    "display_topics(svd_para_model, tfidf.get_feature_names())"
   ]
  },
  {
   "cell_type": "markdown",
   "metadata": {},
   "source": [
    "There are only really two topics seen here, the calculator (00, 01, 03, 04) and the PS5 (02)."
   ]
  }
 ],
 "metadata": {
  "kernelspec": {
   "display_name": "Python 3 (ipykernel)",
   "language": "python",
   "name": "python3"
  },
  "language_info": {
   "codemirror_mode": {
    "name": "ipython",
    "version": 3
   },
   "file_extension": ".py",
   "mimetype": "text/x-python",
   "name": "python",
   "nbconvert_exporter": "python",
   "pygments_lexer": "ipython3",
   "version": "3.7.8"
  }
 },
 "nbformat": 4,
 "nbformat_minor": 4
}
